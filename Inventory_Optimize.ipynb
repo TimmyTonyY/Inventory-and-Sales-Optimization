{
 "cells": [
  {
   "cell_type": "markdown",
   "id": "6af12417-95b7-481d-a4d2-30901b09f2f2",
   "metadata": {},
   "source": [
    "## Improving inventory and sales management and optimizing sales performance\n"
   ]
  },
  {
   "cell_type": "markdown",
   "id": "81f349a2-238c-47c8-b0cf-cab3f3c1fda0",
   "metadata": {},
   "source": [
    "### Importing Libraies"
   ]
  },
  {
   "cell_type": "code",
   "execution_count": 1,
   "id": "2ad3205c-fb22-442d-912f-1c942083382f",
   "metadata": {},
   "outputs": [],
   "source": [
    "import pandas as pd\n",
    "import numpy as np\n",
    "\n",
    "import warnings\n",
    "warnings.filterwarnings('ignore')\n",
    "\n",
    "import matplotlib.pyplot as plt\n",
    "import seaborn as sns\n",
    "\n",
    "#pd.set_option('display.max_columns', None)\n",
    "#pd.set_option('display.max_rows', None)"
   ]
  },
  {
   "cell_type": "code",
   "execution_count": 2,
   "id": "f9e815bf-f58d-4128-a858-860cfe81b7e4",
   "metadata": {},
   "outputs": [
    {
     "data": {
      "text/html": [
       "<div>\n",
       "<style scoped>\n",
       "    .dataframe tbody tr th:only-of-type {\n",
       "        vertical-align: middle;\n",
       "    }\n",
       "\n",
       "    .dataframe tbody tr th {\n",
       "        vertical-align: top;\n",
       "    }\n",
       "\n",
       "    .dataframe thead th {\n",
       "        text-align: right;\n",
       "    }\n",
       "</style>\n",
       "<table border=\"1\" class=\"dataframe\">\n",
       "  <thead>\n",
       "    <tr style=\"text-align: right;\">\n",
       "      <th></th>\n",
       "      <th>YEAR</th>\n",
       "      <th>MONTH</th>\n",
       "      <th>SUPPLIER</th>\n",
       "      <th>ITEM CODE</th>\n",
       "      <th>ITEM DESCRIPTION</th>\n",
       "      <th>ITEM TYPE</th>\n",
       "      <th>RETAIL SALES</th>\n",
       "      <th>RETAIL TRANSFERS</th>\n",
       "      <th>WAREHOUSE SALES</th>\n",
       "    </tr>\n",
       "  </thead>\n",
       "  <tbody>\n",
       "    <tr>\n",
       "      <th>0</th>\n",
       "      <td>2020</td>\n",
       "      <td>1</td>\n",
       "      <td>REPUBLIC NATIONAL DISTRIBUTING CO</td>\n",
       "      <td>100009</td>\n",
       "      <td>BOOTLEG RED - 750ML</td>\n",
       "      <td>WINE</td>\n",
       "      <td>0.00</td>\n",
       "      <td>0.0</td>\n",
       "      <td>2.0</td>\n",
       "    </tr>\n",
       "    <tr>\n",
       "      <th>1</th>\n",
       "      <td>2020</td>\n",
       "      <td>1</td>\n",
       "      <td>PWSWN INC</td>\n",
       "      <td>100024</td>\n",
       "      <td>MOMENT DE PLAISIR - 750ML</td>\n",
       "      <td>WINE</td>\n",
       "      <td>0.00</td>\n",
       "      <td>1.0</td>\n",
       "      <td>4.0</td>\n",
       "    </tr>\n",
       "    <tr>\n",
       "      <th>2</th>\n",
       "      <td>2020</td>\n",
       "      <td>1</td>\n",
       "      <td>RELIABLE CHURCHILL LLLP</td>\n",
       "      <td>1001</td>\n",
       "      <td>S SMITH ORGANIC PEAR CIDER - 18.7OZ</td>\n",
       "      <td>BEER</td>\n",
       "      <td>0.00</td>\n",
       "      <td>0.0</td>\n",
       "      <td>1.0</td>\n",
       "    </tr>\n",
       "    <tr>\n",
       "      <th>3</th>\n",
       "      <td>2020</td>\n",
       "      <td>1</td>\n",
       "      <td>LANTERNA DISTRIBUTORS INC</td>\n",
       "      <td>100145</td>\n",
       "      <td>SCHLINK HAUS KABINETT - 750ML</td>\n",
       "      <td>WINE</td>\n",
       "      <td>0.00</td>\n",
       "      <td>0.0</td>\n",
       "      <td>1.0</td>\n",
       "    </tr>\n",
       "    <tr>\n",
       "      <th>4</th>\n",
       "      <td>2020</td>\n",
       "      <td>1</td>\n",
       "      <td>DIONYSOS IMPORTS INC</td>\n",
       "      <td>100293</td>\n",
       "      <td>SANTORINI GAVALA WHITE - 750ML</td>\n",
       "      <td>WINE</td>\n",
       "      <td>0.82</td>\n",
       "      <td>0.0</td>\n",
       "      <td>0.0</td>\n",
       "    </tr>\n",
       "  </tbody>\n",
       "</table>\n",
       "</div>"
      ],
      "text/plain": [
       "   YEAR  MONTH                           SUPPLIER ITEM CODE  \\\n",
       "0  2020      1  REPUBLIC NATIONAL DISTRIBUTING CO    100009   \n",
       "1  2020      1                          PWSWN INC    100024   \n",
       "2  2020      1            RELIABLE CHURCHILL LLLP      1001   \n",
       "3  2020      1          LANTERNA DISTRIBUTORS INC    100145   \n",
       "4  2020      1               DIONYSOS IMPORTS INC    100293   \n",
       "\n",
       "                      ITEM DESCRIPTION ITEM TYPE  RETAIL SALES  \\\n",
       "0                  BOOTLEG RED - 750ML      WINE          0.00   \n",
       "1            MOMENT DE PLAISIR - 750ML      WINE          0.00   \n",
       "2  S SMITH ORGANIC PEAR CIDER - 18.7OZ      BEER          0.00   \n",
       "3        SCHLINK HAUS KABINETT - 750ML      WINE          0.00   \n",
       "4       SANTORINI GAVALA WHITE - 750ML      WINE          0.82   \n",
       "\n",
       "   RETAIL TRANSFERS  WAREHOUSE SALES  \n",
       "0               0.0              2.0  \n",
       "1               1.0              4.0  \n",
       "2               0.0              1.0  \n",
       "3               0.0              1.0  \n",
       "4               0.0              0.0  "
      ]
     },
     "execution_count": 2,
     "metadata": {},
     "output_type": "execute_result"
    }
   ],
   "source": [
    "df = pd.read_csv('Warehouse_and_Retail_Sales.csv')\n",
    "df.head()"
   ]
  },
  {
   "cell_type": "markdown",
   "id": "8c77a931-f9f8-4c62-8863-7d6706d1f2f9",
   "metadata": {},
   "source": [
    "## Data Understanding"
   ]
  },
  {
   "cell_type": "code",
   "execution_count": 3,
   "id": "11d6f655-f0bf-4d86-a1e6-79366d94064b",
   "metadata": {},
   "outputs": [
    {
     "data": {
      "text/plain": [
       "(307645, 9)"
      ]
     },
     "execution_count": 3,
     "metadata": {},
     "output_type": "execute_result"
    }
   ],
   "source": [
    "df.shape"
   ]
  },
  {
   "cell_type": "code",
   "execution_count": 4,
   "id": "ca89ef59-358d-4b7a-a493-fb5ca201cee4",
   "metadata": {},
   "outputs": [
    {
     "data": {
      "text/plain": [
       "array([2020, 2017, 2018, 2019], dtype=int64)"
      ]
     },
     "execution_count": 4,
     "metadata": {},
     "output_type": "execute_result"
    }
   ],
   "source": [
    "df['YEAR'].unique()"
   ]
  },
  {
   "cell_type": "code",
   "execution_count": 5,
   "id": "def85246-c6e7-498f-8673-a56183ee5fd8",
   "metadata": {},
   "outputs": [
    {
     "data": {
      "text/plain": [
       "YEAR\n",
       "2018     26445\n",
       "2020     46278\n",
       "2017     96284\n",
       "2019    138638\n",
       "Name: count, dtype: int64"
      ]
     },
     "execution_count": 5,
     "metadata": {},
     "output_type": "execute_result"
    }
   ],
   "source": [
    "df['YEAR'].value_counts().sort_values()"
   ]
  },
  {
   "cell_type": "code",
   "execution_count": 6,
   "id": "08f4fe69-3cfd-487a-8629-39b1f1cd52cc",
   "metadata": {},
   "outputs": [
    {
     "data": {
      "text/html": [
       "<div>\n",
       "<style scoped>\n",
       "    .dataframe tbody tr th:only-of-type {\n",
       "        vertical-align: middle;\n",
       "    }\n",
       "\n",
       "    .dataframe tbody tr th {\n",
       "        vertical-align: top;\n",
       "    }\n",
       "\n",
       "    .dataframe thead th {\n",
       "        text-align: right;\n",
       "    }\n",
       "</style>\n",
       "<table border=\"1\" class=\"dataframe\">\n",
       "  <thead>\n",
       "    <tr style=\"text-align: right;\">\n",
       "      <th></th>\n",
       "      <th>YEAR</th>\n",
       "      <th>MONTH</th>\n",
       "      <th>SUPPLIER</th>\n",
       "      <th>ITEM CODE</th>\n",
       "      <th>ITEM DESCRIPTION</th>\n",
       "      <th>ITEM TYPE</th>\n",
       "      <th>RETAIL SALES</th>\n",
       "      <th>RETAIL TRANSFERS</th>\n",
       "      <th>WAREHOUSE SALES</th>\n",
       "    </tr>\n",
       "  </thead>\n",
       "  <tbody>\n",
       "    <tr>\n",
       "      <th>0</th>\n",
       "      <td>2020</td>\n",
       "      <td>1</td>\n",
       "      <td>REPUBLIC NATIONAL DISTRIBUTING CO</td>\n",
       "      <td>100009</td>\n",
       "      <td>BOOTLEG RED - 750ML</td>\n",
       "      <td>WINE</td>\n",
       "      <td>0.0</td>\n",
       "      <td>0.0</td>\n",
       "      <td>2.0</td>\n",
       "    </tr>\n",
       "    <tr>\n",
       "      <th>1</th>\n",
       "      <td>2020</td>\n",
       "      <td>1</td>\n",
       "      <td>PWSWN INC</td>\n",
       "      <td>100024</td>\n",
       "      <td>MOMENT DE PLAISIR - 750ML</td>\n",
       "      <td>WINE</td>\n",
       "      <td>0.0</td>\n",
       "      <td>1.0</td>\n",
       "      <td>4.0</td>\n",
       "    </tr>\n",
       "  </tbody>\n",
       "</table>\n",
       "</div>"
      ],
      "text/plain": [
       "   YEAR  MONTH                           SUPPLIER ITEM CODE  \\\n",
       "0  2020      1  REPUBLIC NATIONAL DISTRIBUTING CO    100009   \n",
       "1  2020      1                          PWSWN INC    100024   \n",
       "\n",
       "            ITEM DESCRIPTION ITEM TYPE  RETAIL SALES  RETAIL TRANSFERS  \\\n",
       "0        BOOTLEG RED - 750ML      WINE           0.0               0.0   \n",
       "1  MOMENT DE PLAISIR - 750ML      WINE           0.0               1.0   \n",
       "\n",
       "   WAREHOUSE SALES  \n",
       "0              2.0  \n",
       "1              4.0  "
      ]
     },
     "execution_count": 6,
     "metadata": {},
     "output_type": "execute_result"
    }
   ],
   "source": [
    "df.head(2)"
   ]
  },
  {
   "cell_type": "markdown",
   "id": "67e6fbdd-4cb7-4e23-962d-7e70bb59f833",
   "metadata": {},
   "source": [
    "### This Data Contains four years details with 307645 rows and 9 columns"
   ]
  },
  {
   "cell_type": "markdown",
   "id": "62e88600-e644-40b7-aa5b-1176d28aa135",
   "metadata": {},
   "source": [
    "## Understanding the Columns\n",
    "1. Year: The year, the sales transfers, and warehouse activities occurred.\n",
    "2. Month: The month corresponding to the year in which the sales transfers and warehouse activities occurred.\n",
    "3. Supplier: This column identifies the name of the supplier who distributes the item\n",
    "4. Item Code: The unique identifier for each item and product distributed\n",
    "5. Item Description: This column provides a description Name of the item and product.\n",
    "6. Item Type: The category of the item based on its product type.\n",
    "7. Retail Sales: This column represents the quantity of items sold at retail locations.\n",
    "8. Retail Transfers: This column indicates the quantity of items transferred from the warehouse to retail locations.\n",
    "9. Warehouse Sales: This column shows the quantity of items sold directly from the warehouse."
   ]
  },
  {
   "cell_type": "code",
   "execution_count": 7,
   "id": "211ffcbd-14b7-4c0b-9910-8d2be3ef625e",
   "metadata": {},
   "outputs": [
    {
     "data": {
      "text/plain": [
       "YEAR                    4\n",
       "MONTH                  12\n",
       "SUPPLIER              396\n",
       "ITEM CODE           34056\n",
       "ITEM DESCRIPTION    34822\n",
       "ITEM TYPE               8\n",
       "RETAIL SALES        10674\n",
       "RETAIL TRANSFERS     2504\n",
       "WAREHOUSE SALES      4895\n",
       "dtype: int64"
      ]
     },
     "execution_count": 7,
     "metadata": {},
     "output_type": "execute_result"
    }
   ],
   "source": [
    "df.nunique()"
   ]
  },
  {
   "cell_type": "markdown",
   "id": "2c2f2241-3276-4bc0-8568-cf8b811ff563",
   "metadata": {},
   "source": [
    "## Data Cleaning"
   ]
  },
  {
   "cell_type": "code",
   "execution_count": 8,
   "id": "1f266fbf-a099-42e9-b6e5-f1c7d174dd75",
   "metadata": {},
   "outputs": [],
   "source": [
    "df2 = df.copy()"
   ]
  },
  {
   "cell_type": "code",
   "execution_count": 9,
   "id": "bbdb8719-92ae-4ba8-9311-a6042cd93c4b",
   "metadata": {},
   "outputs": [
    {
     "name": "stdout",
     "output_type": "stream",
     "text": [
      "<class 'pandas.core.frame.DataFrame'>\n",
      "RangeIndex: 307645 entries, 0 to 307644\n",
      "Data columns (total 9 columns):\n",
      " #   Column            Non-Null Count   Dtype  \n",
      "---  ------            --------------   -----  \n",
      " 0   YEAR              307645 non-null  int64  \n",
      " 1   MONTH             307645 non-null  int64  \n",
      " 2   SUPPLIER          307478 non-null  object \n",
      " 3   ITEM CODE         307645 non-null  object \n",
      " 4   ITEM DESCRIPTION  307645 non-null  object \n",
      " 5   ITEM TYPE         307644 non-null  object \n",
      " 6   RETAIL SALES      307642 non-null  float64\n",
      " 7   RETAIL TRANSFERS  307645 non-null  float64\n",
      " 8   WAREHOUSE SALES   307645 non-null  float64\n",
      "dtypes: float64(3), int64(2), object(4)\n",
      "memory usage: 21.1+ MB\n"
     ]
    }
   ],
   "source": [
    "df2.info()"
   ]
  },
  {
   "cell_type": "markdown",
   "id": "d2706552-6cb8-403d-9871-fe303769eaa0",
   "metadata": {},
   "source": [
    "### Clean the Year and Month Column\n",
    "* change the datatype\n",
    "* format and replace the month number with the month name"
   ]
  },
  {
   "cell_type": "code",
   "execution_count": 10,
   "id": "d5f7e737-2552-4315-a03d-366ca99a3b43",
   "metadata": {
    "scrolled": true
   },
   "outputs": [],
   "source": [
    "# change the datatype from int to str\n",
    "\n",
    "df2['YEAR'] = df2['YEAR'].astype(str)\n",
    "\n",
    "df2['MONTH'] = df2['MONTH'].astype(str)"
   ]
  },
  {
   "cell_type": "code",
   "execution_count": 11,
   "id": "110849b7-5c39-42d8-81ee-1a35947eb809",
   "metadata": {},
   "outputs": [
    {
     "name": "stdout",
     "output_type": "stream",
     "text": [
      "<class 'pandas.core.frame.DataFrame'>\n",
      "RangeIndex: 307645 entries, 0 to 307644\n",
      "Data columns (total 9 columns):\n",
      " #   Column            Non-Null Count   Dtype  \n",
      "---  ------            --------------   -----  \n",
      " 0   YEAR              307645 non-null  object \n",
      " 1   MONTH             307645 non-null  object \n",
      " 2   SUPPLIER          307478 non-null  object \n",
      " 3   ITEM CODE         307645 non-null  object \n",
      " 4   ITEM DESCRIPTION  307645 non-null  object \n",
      " 5   ITEM TYPE         307644 non-null  object \n",
      " 6   RETAIL SALES      307642 non-null  float64\n",
      " 7   RETAIL TRANSFERS  307645 non-null  float64\n",
      " 8   WAREHOUSE SALES   307645 non-null  float64\n",
      "dtypes: float64(3), object(6)\n",
      "memory usage: 21.1+ MB\n"
     ]
    }
   ],
   "source": [
    "df2.info()"
   ]
  },
  {
   "cell_type": "code",
   "execution_count": 12,
   "id": "320fe167-8255-4eab-913b-26dc1b7ecb3b",
   "metadata": {},
   "outputs": [
    {
     "data": {
      "text/plain": [
       "array(['January', 'July', 'March', 'September', 'June', 'August',\n",
       "       'JanuaryFebruary', 'January0', 'JanuaryJanuary', 'February',\n",
       "       'April', 'May'], dtype=object)"
      ]
     },
     "execution_count": 12,
     "metadata": {},
     "output_type": "execute_result"
    }
   ],
   "source": [
    "# Replace the month number with the month name\n",
    "\n",
    "df2['MONTH'] = df2['MONTH'].str.replace('1','January')\n",
    "df2['MONTH'] = df2['MONTH'].str.replace('2','February')\n",
    "df2['MONTH'] = df2['MONTH'].str.replace('3','March')\n",
    "df2['MONTH'] = df2['MONTH'].str.replace('4','April')\n",
    "df2['MONTH'] = df2['MONTH'].str.replace('5','May')\n",
    "df2['MONTH'] = df2['MONTH'].str.replace('6','June')\n",
    "df2['MONTH'] = df2['MONTH'].str.replace('7','July')\n",
    "df2['MONTH'] = df2['MONTH'].str.replace('8','August')\n",
    "df2['MONTH'] = df2['MONTH'].str.replace('9','September')\n",
    "df2['MONTH'] = df2['MONTH'].str.replace('10','October')\n",
    "df2['MONTH'] = df2['MONTH'].str.replace('11','November')\n",
    "df2['MONTH'] = df2['MONTH'].str.replace('12','December')\n",
    "df2['MONTH'].unique()"
   ]
  },
  {
   "cell_type": "markdown",
   "id": "07d56fb9-6421-4c67-8f60-11ffed16ce3f",
   "metadata": {},
   "source": [
    "##### 10 replace with January0, 11 replace with JanuaryJanuary, 12 replace with JanuaryFebruary"
   ]
  },
  {
   "cell_type": "code",
   "execution_count": 13,
   "id": "6635a0fa-8dcd-427a-b8f7-5cf76a385e1e",
   "metadata": {},
   "outputs": [
    {
     "data": {
      "text/plain": [
       "array(['January', 'July', 'March', 'September', 'June', 'August',\n",
       "       'December', 'October', 'November', 'February', 'April', 'May'],\n",
       "      dtype=object)"
      ]
     },
     "execution_count": 13,
     "metadata": {},
     "output_type": "execute_result"
    }
   ],
   "source": [
    "# Format the incorrect replace with the correct Month (October, November, December)\n",
    "\n",
    "df2['MONTH'] = df2['MONTH'].str.replace('January0','October')\n",
    "df2['MONTH'] = df2['MONTH'].str.replace('JanuaryJanuary','November')\n",
    "df2['MONTH'] = df2['MONTH'].str.replace('JanuaryFebruary','December')\n",
    "df2['MONTH'].unique()"
   ]
  },
  {
   "cell_type": "code",
   "execution_count": 14,
   "id": "21bfa69e-69a9-4fc4-b361-f9576e8df223",
   "metadata": {},
   "outputs": [
    {
     "data": {
      "text/plain": [
       "array(['REPUBLIC NATIONAL DISTRIBUTING CO', 'PWSWN INC',\n",
       "       'RELIABLE CHURCHILL LLLP', 'LANTERNA DISTRIBUTORS INC',\n",
       "       'DIONYSOS IMPORTS INC', 'KYSELA PERE ET FILS LTD',\n",
       "       'SANTA MARGHERITA USA INC', 'BROWN-FORMAN BEVERAGES WORLDWIDE',\n",
       "       'JIM BEAM BRANDS CO', 'INTERNATIONAL CELLARS LLC',\n",
       "       'HEAVEN HILL DISTILLERIES INC', 'BACCHUS IMPORTERS LTD',\n",
       "       'MONSIEUR TOUTON SELECTION',\n",
       "       'THE COUNTRY VINTNER, LLC DBA WINEBOW', 'ROYAL WINE CORP',\n",
       "       'STE MICHELLE WINE ESTATES', 'Default', 'SAZERAC CO',\n",
       "       'SALVETO IMPORTS LLC', 'HUB WINE CORPORATION',\n",
       "       'ALLAGASH BREWING COMPANY', 'CAMPARI AMERICA LLC',\n",
       "       'PERNOD RICARD USA LLC', 'PRESTIGE BEVERAGE GROUP OF MD LLC',\n",
       "       'BACARDI USA INC', 'YOUNG WON TRADING INC',\n",
       "       'TROEGS BREWING COMPANY', 'CASTLE BRANDS USA CORP', 'LEGENDS LTD',\n",
       "       'WASHBURN WINE CO', 'CELICAR LLC DBA TWIN VALLEY DISTILLERS',\n",
       "       'DOPS INC', 'JACKSON FAMILY ENTERPRISES INC',\n",
       "       'BUCK DISTRIBUTING COMPANY INC', 'PUNTO VINO LLC',\n",
       "       'VICTORY BREWING COMPANY LLC', 'THE WINE GROUP',\n",
       "       'ELITE WINES IMPORTS', 'LUNEAU USA INC', 'BARON FRANCOIS LTD',\n",
       "       'PROXIMO SPIRITS INC', 'SOUTHERN GLAZERS WINE AND SPIRITS',\n",
       "       'DIAGEO NORTH AMERICA INC', 'OPICI FAMILY DISTRIBUTING OF MD',\n",
       "       'MICHAEL R DOWNEY SELECTIONS INC', nan, 'ATLAS BREW WORKS LLC',\n",
       "       'FRONT PORCH MICRO WINERY LLC',\n",
       "       'TREASURY WINE ESTATES AMERICAS COMPANY',\n",
       "       'TRADEWINDS SPECIALTY IMPORTS LLC', 'CONSTELLATION BRANDS',\n",
       "       'SIERRA NEVADA BREWING CO', 'DUGGANS DISTILLERS PROD',\n",
       "       'VINTAGE WINE ESTATES INC', 'SAGAMORE WHISKEY LLC',\n",
       "       'J LOHR WINERY', 'LUXCO SPIRITED BRANDS', 'NEW PARROTT & CO',\n",
       "       'CRAFT WINE & SPIRITS OF MARYLAND LLC', 'MHW LTD',\n",
       "       'WILLIAM GRANT AND SONS INC', 'INTERBALT PRODUCTS CORP',\n",
       "       'ARTISANS & VINES LLC', 'BRONCO WINE COMPANY',\n",
       "       'TI BEVERAGE GROUP LTD', 'DELMAR BREWING COMPANY LLC',\n",
       "       'UNITED STATES DISTILLED PRODUCTS', 'RIGHT FORWARD LLC',\n",
       "       'A I G WINE & SPIRITS', 'GRAPES OF SPAIN INC',\n",
       "       'DEUTSCH FAMILY WINE & SPIRITS', 'MARK ANTHONY BRANDS INC',\n",
       "       'SUTTER HOME WINERY INC', 'DUVEL MOORTGAT USA LTD',\n",
       "       'BACKUP BEVERAGE', 'NORTH LOCK LLC DBA PORT CITY BREWING CO',\n",
       "       'PATERNO IMPORTS LTD', 'BANFI PRODUCTS CORP', 'HEINEKEN USA',\n",
       "       'CONSTANTINE WINES INC', 'JOS VICTORI WINES',\n",
       "       'STOLI GROUP (USA) LLC', 'E & J GALLO WINERY',\n",
       "       'DUCKHORN WINE COMPANY', 'TRI-VIN IMPORTS', 'PIPE CREEK WINES LLC',\n",
       "       'TREFETHEN VINEYARDS', 'BOSTON BEER CORPORATION',\n",
       "       'DON SEBASTIANI & SONS', 'VIGNOBLES LVDH USA INC',\n",
       "       'TRICANA SHIPPERS & IMPORT', 'LAPHAM SALES & MARKETING DBA LAPHAM',\n",
       "       'SCHUG CARNEROS ESTATE WINERY', 'PARK STREET IMPORTS LLC',\n",
       "       'AREL GROUP WINE & SPIRITS', 'MILLER BREWING COMPANY',\n",
       "       'KOBRAND CORPORATION', 'EASTERN LIQUOR DISTRIBUTORS INC',\n",
       "       'THE EDRINGTON GROUP USA LLC', 'FRANCIS COPPOLA WINERY LLC',\n",
       "       'SURVILLE ENTERPRISES CORP', 'SERRALLES USA LLC',\n",
       "       'DELICATO FAMILY VINEYARDS', 'REMY COINTREAU USA',\n",
       "       'CHASSEUR WINE LLC', 'AMERICAN BEVERAGE CORPORATION',\n",
       "       'MOET HENNESSY USA', 'KATCEF BROTHERS INC', 'FIVE GRAPES LLC',\n",
       "       'PRECEPT BRANDS LLC', 'DMV DISTRIBUTING LLC', 'FETZER VINEYARDS',\n",
       "       'TESTA WINES OF THE WORLD LTD', 'THE HESS COLLECTION',\n",
       "       'AMERICAN BEVERAGE MARKETERS', 'TAPWINES',\n",
       "       'HONIG VINEYARD AND WINERY', 'PREMIUM DISTRIBUTORS INC',\n",
       "       'JACK POUST & COMPANY INC', 'MONTEBELLO BRANDS INC',\n",
       "       'SIDNEY-FRANK IMPORTING CO', 'OREGON BREWING COMPANY',\n",
       "       'NARRAGANSETT BREWING COMPANY', 'ANHEUSER BUSCH INC',\n",
       "       'NEW BELGIUM BREWING INC', 'CROWN IMPORTS', 'PABST BREWING CO',\n",
       "       'ST SUPERY INC', 'THE BROOKLYN BREWERY CORPORATION',\n",
       "       'LABATT USA OPERATING CO LLC',\n",
       "       'GLOBAL OCEAN AND AIR CARGO SERVICES',\n",
       "       'BANVILLE & JONES WINE MERCHANTS', 'FLYING DOG BREWERY LLLP',\n",
       "       'MASS BAY BREWING CO', 'C MONDAVI & SONS',\n",
       "       'CANTINIERE IMPORTS & DISTRIBUTING INC', 'FOWLES WINE USA INC',\n",
       "       'FREIXENET MIONETTO USA INC', 'NICKOLAS IMPORTS LLC',\n",
       "       'DANGEROUS WINE GROUP LLC', 'MACK & SCHUHLE INC',\n",
       "       'NICHE IMPORTERS', 'FREE RUN WINE MERCHANTS LLC',\n",
       "       'QUINTESSENTIAL LLC', 'GROTH VINEYARDS & WINERY', 'TAP26MD LLC',\n",
       "       'SMT AQUISITIONS LLC', 'ATLANTIC WINE & SPIRITS', 'FREIXENET USA',\n",
       "       'CARROLL CREEK WHISKEY LLC', 'FERRARI CARANO WINERY',\n",
       "       'ALLIED IMPORTERS USA LTD', 'FN CELLARS LLC', 'YUENGLING BREWERY',\n",
       "       'THE SPANISH WINE IMPORTERS LLC', 'GAMBRINUS',\n",
       "       'EVEREST SPIRITS LLC', 'TENTH HARVEST LLC', 'SOVEREIGN BRANDS LLC',\n",
       "       'MADIDUS LLC', 'MCNEILL INDEPENDENT SPIRIT CREATORS LLC',\n",
       "       'RVWC LLC', 'THE RIVER WINE', 'HOME BREW MART INC',\n",
       "       'ST KILLIAN IMPORTING CO INC', 'COASTAL BREWING COMPANY LLC',\n",
       "       'CLIPPER CITY BREWING CO', 'VERMONT HARD CIDER COMPANY LLC',\n",
       "       'DC BRAU BREWING LLC', 'SPAINS BEST BEERS INC', 'BBL INC',\n",
       "       'BINDING BRAUEREI USA INC', 'TERRAPIN BEER COMPANY',\n",
       "       'BOLD ROCK PARTNERS LP', 'STEFANO INCORPORATED',\n",
       "       'WAGNER WINE COMPANY LLC', 'IMPERO WINE DISTRIBUTORS VIRGINIA INC',\n",
       "       'CHARLES JACQUIN ET CIE INC', 'WINE BRIDGE IMPORTS INC',\n",
       "       'ZURENA LLC', 'SAN ANTONIO WINERY INC', 'GOOSE RIDGE LLC',\n",
       "       'SOKOL BLOSSER LTD', \"O'NEILL BEVERAGES CO LLC\",\n",
       "       'SCHMITT SOHNE INC', 'GEORGIAN HOUSE OF GREATER WASHINGTON',\n",
       "       'MEXCOR INTERNATIONAL', 'THE SANDY BOTTOM ENTERPRISES LLC',\n",
       "       'E M D SALES INC', 'CABERNET CORPORATION',\n",
       "       'FOLEY FAMILY WINES INC', 'PLUME RIDGE IRREVOCABLE TRUST',\n",
       "       'OSLO ENTERPRISE', 'THE TRITON COLLECTION INC',\n",
       "       'SWEETWATER BREWING COMPANY LLC', 'PHILLIPS FARMS LLC',\n",
       "       'ELK RUN VINEYARDS', 'LCF WINE COMPANY LLC',\n",
       "       'ROBERT OATLEY VINEYARDS INC', 'TREANA WINERY LLC',\n",
       "       'VINTAGE POINT LLC', 'AIKO IMPORTERS INC',\n",
       "       'WELL OILED WINE COMPANY LLC', 'FILIBUSTER BARRELS LLC',\n",
       "       'POTOMAC SELECTIONS INC', 'RED INK IMPORTS',\n",
       "       'MAST-JAEGERMEISTER US INC', 'VINTURE WINE COMPANY LLC',\n",
       "       'SCOPERTA IMPORTING COMPANY INC', 'PARAGON VINEYARD CO INC',\n",
       "       'KLEIN FAMILY VINTNERS', 'ROOTS RUN DEEP LLC', 'WI INC',\n",
       "       'WILLIAM HARRISON IMPORTS', 'FLAVOR SEEKERS LLC',\n",
       "       'FIFTH GENERATION INC', 'RUSSIAN STANDARD VODKA (USA) INC',\n",
       "       'COPPER CANE LLC', 'STELLAR IMPORTING CO LLC',\n",
       "       'LEGACY PARTNERS DISTRIBUTION LLC', 'REPUBLIC RESTORATIVES',\n",
       "       'SPLINTER GROUP NAPA LLC', 'FREDERICK WILDMAN & SONS',\n",
       "       'THREE STARS BREWING COMPANY LLC', 'PRESTIGE WINE IMPORTS',\n",
       "       'AZABU DISTILLING CO LLC', 'IMPERO WINE DISTRIBUTORS',\n",
       "       'VINTUS LLC', 'AMERICAN FIDELITY TRADING', 'HOTALING & CO LLC',\n",
       "       'PALM BAY IMPORTS', 'BASQUE BAR LLC', 'COMETE WINES LLC',\n",
       "       'SANGLIER SELECTIONS LLC', 'GF WINES, LLC DBA GARY FARRELL WINERY',\n",
       "       'MACCHU PISCO LLC', 'INFINIUM SPIRITS INC', 'VIN DIVINO LTD',\n",
       "       'FAR NIENTE WINERY INC', 'JORDAN VINEYARD', 'ST RICE WINE INC',\n",
       "       'DISARONNO INTERNATIONAL LLC', 'ADAMBA IMPORTS INTL',\n",
       "       'SUGARLOAF MOUNTAIN SUNLIGHT VINEYARD LLC', 'LAIRD AND COMPANY',\n",
       "       'RUTHERFORD WINE COMPANY', 'NOVELTY MD INC',\n",
       "       'WARSTEINER IMPORTERS', 'SLIGO MILL BREWING LLC',\n",
       "       'HOUTON PURVEYORS LLC', 'OHMRONE WINE AND LIQUOR LLC',\n",
       "       'MOUNT DEFIANCE CIDERY & DISTILLERY LLC',\n",
       "       'NEGUS BREWING COMPANY LLC', 'NEXTERRA WINE COMPANY',\n",
       "       'CITIZENS BREWING LLC', 'WESTERN SPIRITS BEVERAGE COMPANY LLC',\n",
       "       'LYON DISTILLING COMPANY LLC', 'BULLSHINE DISTILLERY LLC',\n",
       "       'DRAGON DISTILLERY LLC', 'OCEAN CITY BREWING CO LLC',\n",
       "       'LION NATHAN USA INC', 'KAHN PAPER COMPANY INC', 'CHEVAL QUANCARD',\n",
       "       'FRUIT OF THE VINES INC', 'SUGARLOAF MOUNTAIN VINEYARD LLC',\n",
       "       'KING ESTATE WINERY', 'ASAHI BEER USA INC',\n",
       "       'SINGHA NORTH AMERICA INC', 'HAMCO DC', 'BROOKEVILLE BREWING LLC',\n",
       "       'MESOZOIC TECHNOLOGIES LLC', 'BITTERMILK LLC',\n",
       "       'HARVEST IMPORTING LLC', 'REGAL WINE IMPORTS INC',\n",
       "       'THE WINE SOURCE INC', 'WINERY EXCHANGE INC',\n",
       "       'Z WINE GALLERY IMPORTS LLC', 'SAWM IMPORTS LLC',\n",
       "       'ST GEORGE SPIRITS INC', 'WILLIAMS CORNER WINE', 'LOOK VODKA LLC',\n",
       "       'BREWDOG BREWING COMPANY LLC', 'TRUE RESPITE BREWING COMPANY LLC',\n",
       "       'CROOK & MARKER LLC', 'RSL HOLDINGS INC', 'SNR HOLDINGS LLC',\n",
       "       'PARALLEL WORLD BREWING COMPANY', 'GJS SALES INC',\n",
       "       'VINIFERA DISTRIBUTING OF MARYLAND INC', 'MARQUEE SELECTIONS LLC',\n",
       "       'SMITH-ANDERSON ENTERPRISES INC', 'TOBACCO BARN DISTILLERY',\n",
       "       'RAPP CAPITAL LLC', 'WITH MALUS AFORETHOUGHT LLC', 'FIORE WINERY',\n",
       "       'A VINTNERS SELECTIONS', 'DUCLAW BREWERY LLC',\n",
       "       'AMERICAN VINTAGE BEVERAGE INC', 'GRAPES & BARLEY LLC',\n",
       "       'SOUTHERN WINE & SPIRITS OF MARYLAND', 'CALVERT BREWING COMPANY',\n",
       "       'STARR HILL BREWERY LLC', 'GRAIL POINT BREWERY LLC',\n",
       "       'DOMAINE SELECT WINE & SPIRITS LLC', 'DOGFISH HEAD CRAFT BREWERY',\n",
       "       'WILSON DANIELS LTD', 'BOUTIQUE VINEYARDS LLC',\n",
       "       'ROBERT KACHER SELECTIONS LLC', 'EXCELSIOR WINE COMPANY LLC',\n",
       "       'FREDERICK P WINNER LTD', 'BOND DISTRIBUTING CO',\n",
       "       'ARCHER ROOSE LLC', 'AZIZ SHAFI TANNIC TONGUE',\n",
       "       'MONOCACY BREWING CO LLC', 'BASIGNANI WINERY',\n",
       "       'FX MATT BREWING CO', 'CRAFT BREW ALLIANCE INC',\n",
       "       'BOORDY VINEYARDS', 'SIMON N CELLARS LLC', 'VINTAGE WINES INC',\n",
       "       'ONE TRUE VINE', 'SPADA ENTERPRISES INC', 'USA WINE WEST LLC',\n",
       "       'A&W BORDERS LLC', 'OENOS LLC', 'CAPE STARZ WINE LLC', 'A&E INC',\n",
       "       'LATITUDE BEVERAGE COMPANY', 'USA WINE IMPORTS',\n",
       "       'THREE HENS LLC T/A TENTH HARVEST', 'JOHN GIVEN WINES INC',\n",
       "       'BARREL ONE INC', 'SCHEID VINEYARDS CALIFORNIA INC',\n",
       "       'NOBLE VINTNERS INC', 'FRANK LIN MD', '8 VINI INC',\n",
       "       'INTERNATIONAL SPIRITS & WINES LLC',\n",
       "       'CLASSIC WINE IMPORTS INC DBA VISION WINE', 'FRITZ IMPORTS LLC',\n",
       "       'PLATA WINE PARTNERS LLC', 'DOGFISH HEAD DISTILLERY LLC',\n",
       "       'WETTEN IMPORTERS INC', 'THE VINERY LLC', 'BORVIN BEVERAGE',\n",
       "       'VOLUBILIS IMPORTS INC', 'WEIN-BAUER INC', 'A HARDY USA LTD',\n",
       "       'AW DIRECT LLC', 'ROBERT GIRAUD', 'DESCHUTES BREWERY INC',\n",
       "       'ALTITUDE SPIRITS INC', 'CLASSIC WINE IMPORTS INC',\n",
       "       'SUBARASHII KUDAMONO CO INC', 'GRAND ENCLOS DU CHATEAU DE CERONS',\n",
       "       'CHEF SOUS LLC', \"GATOR RON'S LLC\",\n",
       "       'PREMIUM DISTRIBUTORS OF MARYLAND', 'UNITED STATES BEVERAGE',\n",
       "       'URUGUAY IMPORTS LTD', 'WINEBOW INC', 'CHATEAU DIANA LLC',\n",
       "       'G GAUTHIER CELLARS INC', 'FREELANCE WINES LLC',\n",
       "       'MERRYVALE VINEYARDS', \"D'AQUINO ITALIAN IMPORTING CO INC\",\n",
       "       'MONDO VINO', 'ORGANIC VINTNERS INC', 'ARIS A ZISSIS',\n",
       "       'WHITE ROCK DISTILLERS INC', 'LINNE CALODO INC',\n",
       "       'LA ISLA CORPORATION', 'FAROPIAN SPIRITS LTD', 'MAISON JOMERE LTD',\n",
       "       'RED MOUNTAIN DISTILLING & SPIRITS LLC', 'PACIFIC RIM WINEMAKERS',\n",
       "       'ROBERT OATLEY', 'SABLE RIDGE VINEYARD LLC',\n",
       "       'HEIMBUCH ESTATE VINEYARDS AND WINERY LLC', 'NICE LEGS LLC',\n",
       "       'CHADDSFORD WINERY LTD', 'VINTAGE VIRGINIA APPLES',\n",
       "       'DREYFUS ASHBY INC', 'MEIOMI',\n",
       "       'PAMPA BEVERAGES LLC DBA TRANSNATIONAL SU', 'DCD ENTERPRISES LLC',\n",
       "       'CASA CHIRICO LLC', 'BLACK ANKLE VINEYARDS LLC',\n",
       "       'DOGFISH HEAD CRAFT BREWERY LLC',\n",
       "       'NIEBAUM COPPOLA ESTATE WINERY LP', 'DISTRICT CIDER COMPANY INC',\n",
       "       'ONE EIGHT DISTILLING LLC',\n",
       "       'RED MOUNTAIN DISTILLING AND SPIRITS LLC',\n",
       "       'CHARM CITY BEVERAGE LLC', 'CHEERS DISTRIBUTING INC',\n",
       "       'THE DOG BEVERAGE CO INC', 'MARKERS EDGE LLC', 'FIOR DI SOLE LLC'],\n",
       "      dtype=object)"
      ]
     },
     "execution_count": 14,
     "metadata": {},
     "output_type": "execute_result"
    }
   ],
   "source": [
    "df2.SUPPLIER.unique()"
   ]
  },
  {
   "cell_type": "code",
   "execution_count": 15,
   "id": "b7c4f926-52e2-4a7a-ac51-7e402e01deff",
   "metadata": {},
   "outputs": [
    {
     "data": {
      "text/plain": [
       "ITEM DESCRIPTION\n",
       "BURGANS ALBARINO - 750ML                      44\n",
       "SANTA JULIA TORRONTES SUSTAINABLE - 750ML     39\n",
       "LA VIELLE FERME CDV RED - 750ML               35\n",
       "LINGANORE BLACK RAVEN - 750ML                 34\n",
       "MCCLINTOCK HERITAGE WHITE WHISKEY - 750ML     33\n",
       "LAS PERDICES VIOG - 750ML                     32\n",
       "DAVID NICHOLSON 1843 BOURBON -750ML           32\n",
       "MARIETTA OV RED - 750ML                       32\n",
       "CA LUNGHETTA P/GRIG - 750ML                   32\n",
       "THE WINERY AT OLNEY CHARD - 750ML             31\n",
       "ELOUAN P/NOIR - 750ML                         31\n",
       "DONA PAULA LOS CARDOS MAL - 750ML             31\n",
       "PASOTE ANEJO TEQUILA - 750ML                  30\n",
       "WOODFORD RESERVE KY STRAIT - 1.75L            30\n",
       "ANGELINE RES CHARD - 750ML                    29\n",
       "CHOPIN VODKA - 750ML                          29\n",
       "STONESTREET ESTATE A/V CHARD - 750ML          29\n",
       "PONGA S/BLC - 750ML                           28\n",
       "U MES U FAN CAVA BRUT - 750ML                 28\n",
       "BARON HERZOG CAB JEUNESSE - 750ML             28\n",
       "JAM JAR SWEET SHZ - 750ML                     28\n",
       "VINACEOUS RACONTEUR CAB - 750ML               28\n",
       "VILLA JOLANDA PROSECCO - 750ML                28\n",
       "MU SAKE JUNMAI DIAGINJYO - 720ML              28\n",
       "RAMEY RR VLY CHARD - 750ML                    27\n",
       "SUN GARDEN RIES - 750ML                       27\n",
       "DOMINIO DE EGUREN PROTOCOLO RED - 750ML       27\n",
       "GRAN MORAINE P/NOIR - 750ML                   27\n",
       "DEEP EDDY RUBY RED GRAPEFRUIT VODKA - 50ML    27\n",
       "LANDMARK OVERLOOK CHARD - 750ML               27\n",
       "ASBACH URALT BRANDY - 750ML                   27\n",
       "CONO SUR S/BLC - 750ML                        27\n",
       "LOUIS ROEDERER BRUT PREM 6/CS - 750ML         26\n",
       "HATSUMAGO SAKE JUN MAI SHU - 300ML            26\n",
       "GRAND VENEUR CDR ROUGE - 750ML                26\n",
       "POEMA CAVA BRUT - 750ML                       26\n",
       "LAN RIOJA RES - 750ML                         26\n",
       "LA RIOJA ALTA RES ARDANZA - 750ML             26\n",
       "ABADAL CAB FRANC TEMPRANILLO - 750ML          26\n",
       "MT GAY RUM - BLACK BARREL - 750ML             26\n",
       "SIEMA VYDS P/GRIG - 750ML                     26\n",
       "ALLAN SCOTT VYDS S/BLC - 750ML                26\n",
       "SILVER OAK A/V CAB - 750ML                    26\n",
       "FAMILIA ZUCCARDI Q MAL - 750ML                26\n",
       "PAUL HOBBS CROSSBARN CAB - 750ML              26\n",
       "TWO OCEANS CHARD - 1.5L                       26\n",
       "BLANDYS RAINWATER MEDIUM DRY - 750ML          25\n",
       "PLANTATION  5 YR GR RES RUM - 750ML           25\n",
       "ROSATELLO MOSCATO - 750ML                     25\n",
       "FREEMARK ABBEY MERLOT - 750ML                 25\n",
       "Name: count, dtype: int64"
      ]
     },
     "execution_count": 15,
     "metadata": {},
     "output_type": "execute_result"
    }
   ],
   "source": [
    "df2['ITEM DESCRIPTION'].value_counts().head(50)"
   ]
  },
  {
   "cell_type": "code",
   "execution_count": 16,
   "id": "08311641-c573-4033-9608-9af9a429a0a0",
   "metadata": {},
   "outputs": [
    {
     "data": {
      "text/plain": [
       "array(['WINE', 'BEER', 'LIQUOR', 'STR_SUPPLIES', 'KEGS', 'REF', 'DUNNAGE',\n",
       "       'NON-ALCOHOL', nan], dtype=object)"
      ]
     },
     "execution_count": 16,
     "metadata": {},
     "output_type": "execute_result"
    }
   ],
   "source": [
    "df2['ITEM TYPE'].unique()"
   ]
  },
  {
   "cell_type": "code",
   "execution_count": 17,
   "id": "bfe5c535-6b18-46fe-812a-bc431fc3066f",
   "metadata": {},
   "outputs": [
    {
     "data": {
      "text/plain": [
       "ITEM TYPE\n",
       "WINE            187640\n",
       "LIQUOR           64910\n",
       "BEER             42413\n",
       "KEGS             10146\n",
       "NON-ALCOHOL       1908\n",
       "STR_SUPPLIES       405\n",
       "REF                127\n",
       "DUNNAGE             95\n",
       "Name: count, dtype: int64"
      ]
     },
     "execution_count": 17,
     "metadata": {},
     "output_type": "execute_result"
    }
   ],
   "source": [
    "df2['ITEM TYPE'].value_counts()"
   ]
  },
  {
   "cell_type": "code",
   "execution_count": 18,
   "id": "c5cadd3b-762e-41c5-bde3-310b443363fe",
   "metadata": {},
   "outputs": [
    {
     "data": {
      "text/html": [
       "<div>\n",
       "<style scoped>\n",
       "    .dataframe tbody tr th:only-of-type {\n",
       "        vertical-align: middle;\n",
       "    }\n",
       "\n",
       "    .dataframe tbody tr th {\n",
       "        vertical-align: top;\n",
       "    }\n",
       "\n",
       "    .dataframe thead th {\n",
       "        text-align: right;\n",
       "    }\n",
       "</style>\n",
       "<table border=\"1\" class=\"dataframe\">\n",
       "  <thead>\n",
       "    <tr style=\"text-align: right;\">\n",
       "      <th></th>\n",
       "      <th>YEAR</th>\n",
       "      <th>MONTH</th>\n",
       "      <th>SUPPLIER</th>\n",
       "      <th>ITEM CODE</th>\n",
       "      <th>ITEM DESCRIPTION</th>\n",
       "      <th>ITEM TYPE</th>\n",
       "      <th>RETAIL SALES</th>\n",
       "      <th>RETAIL TRANSFERS</th>\n",
       "      <th>WAREHOUSE SALES</th>\n",
       "    </tr>\n",
       "  </thead>\n",
       "  <tbody>\n",
       "    <tr>\n",
       "      <th>0</th>\n",
       "      <td>2020</td>\n",
       "      <td>January</td>\n",
       "      <td>REPUBLIC NATIONAL DISTRIBUTING CO</td>\n",
       "      <td>100009</td>\n",
       "      <td>BOOTLEG RED - 750ML</td>\n",
       "      <td>WINE</td>\n",
       "      <td>0.0</td>\n",
       "      <td>0.0</td>\n",
       "      <td>2.0</td>\n",
       "    </tr>\n",
       "    <tr>\n",
       "      <th>1</th>\n",
       "      <td>2020</td>\n",
       "      <td>January</td>\n",
       "      <td>PWSWN INC</td>\n",
       "      <td>100024</td>\n",
       "      <td>MOMENT DE PLAISIR - 750ML</td>\n",
       "      <td>WINE</td>\n",
       "      <td>0.0</td>\n",
       "      <td>1.0</td>\n",
       "      <td>4.0</td>\n",
       "    </tr>\n",
       "    <tr>\n",
       "      <th>2</th>\n",
       "      <td>2020</td>\n",
       "      <td>January</td>\n",
       "      <td>RELIABLE CHURCHILL LLLP</td>\n",
       "      <td>1001</td>\n",
       "      <td>S SMITH ORGANIC PEAR CIDER - 18.7OZ</td>\n",
       "      <td>BEER</td>\n",
       "      <td>0.0</td>\n",
       "      <td>0.0</td>\n",
       "      <td>1.0</td>\n",
       "    </tr>\n",
       "  </tbody>\n",
       "</table>\n",
       "</div>"
      ],
      "text/plain": [
       "   YEAR    MONTH                           SUPPLIER ITEM CODE  \\\n",
       "0  2020  January  REPUBLIC NATIONAL DISTRIBUTING CO    100009   \n",
       "1  2020  January                          PWSWN INC    100024   \n",
       "2  2020  January            RELIABLE CHURCHILL LLLP      1001   \n",
       "\n",
       "                      ITEM DESCRIPTION ITEM TYPE  RETAIL SALES  \\\n",
       "0                  BOOTLEG RED - 750ML      WINE           0.0   \n",
       "1            MOMENT DE PLAISIR - 750ML      WINE           0.0   \n",
       "2  S SMITH ORGANIC PEAR CIDER - 18.7OZ      BEER           0.0   \n",
       "\n",
       "   RETAIL TRANSFERS  WAREHOUSE SALES  \n",
       "0               0.0              2.0  \n",
       "1               1.0              4.0  \n",
       "2               0.0              1.0  "
      ]
     },
     "execution_count": 18,
     "metadata": {},
     "output_type": "execute_result"
    }
   ],
   "source": [
    "df2.head(3)"
   ]
  },
  {
   "cell_type": "markdown",
   "id": "f944df4c-4902-4fcc-bdfa-540ac36279c4",
   "metadata": {},
   "source": [
    "## EDA"
   ]
  },
  {
   "cell_type": "code",
   "execution_count": 19,
   "id": "1aeb4095-a9af-4b2f-a3a4-8b04b88a0ac4",
   "metadata": {},
   "outputs": [],
   "source": [
    "df3 = df2.copy()"
   ]
  },
  {
   "cell_type": "code",
   "execution_count": 20,
   "id": "64482ae2-ca3a-493c-8b5c-815fe9c6cc40",
   "metadata": {},
   "outputs": [
    {
     "data": {
      "text/plain": [
       "YEAR                  0\n",
       "MONTH                 0\n",
       "SUPPLIER            167\n",
       "ITEM CODE             0\n",
       "ITEM DESCRIPTION      0\n",
       "ITEM TYPE             1\n",
       "RETAIL SALES          3\n",
       "RETAIL TRANSFERS      0\n",
       "WAREHOUSE SALES       0\n",
       "dtype: int64"
      ]
     },
     "execution_count": 20,
     "metadata": {},
     "output_type": "execute_result"
    }
   ],
   "source": [
    "df3.isnull().sum()"
   ]
  },
  {
   "cell_type": "markdown",
   "id": "f6ca3538-0bd8-4bae-a539-10426c6447d9",
   "metadata": {},
   "source": [
    "##### Insights on missing values:\n",
    "1. It was indicate that 167 name of our supplier is missing\n",
    "2. Also 1 Category Item Type is missing\n",
    "3. Also 3 quantity of items sold at retail Sales is missing"
   ]
  },
  {
   "cell_type": "markdown",
   "id": "578428ca-454d-4568-ae65-7607057b0d75",
   "metadata": {},
   "source": [
    "## ANALYSIS TO PERFORM:\n",
    "Inventory Optimization:\n",
    "1. what is the Total, average, and max quantity sold in Retails and Warehouse Sales?\n",
    "2. What is the total, quantity sold in Retails and Warehouse Sales?\n",
    "3. What is the yearly quantity for (RETAIL SALES), transfers (RETAIL TRANSFERS), and warehouse sales (WAREHOUSE SALES)?\n",
    "4. What is the Monthly quantity for (RETAIL SALES), transfers (RETAIL TRANSFERS), and warehouse sales (WAREHOUSE SALES) for each Year?"
   ]
  },
  {
   "cell_type": "code",
   "execution_count": 21,
   "id": "ef617378-840f-4ece-9c6e-ab6e8b1ab4af",
   "metadata": {},
   "outputs": [
    {
     "data": {
      "text/html": [
       "<div>\n",
       "<style scoped>\n",
       "    .dataframe tbody tr th:only-of-type {\n",
       "        vertical-align: middle;\n",
       "    }\n",
       "\n",
       "    .dataframe tbody tr th {\n",
       "        vertical-align: top;\n",
       "    }\n",
       "\n",
       "    .dataframe thead th {\n",
       "        text-align: right;\n",
       "    }\n",
       "</style>\n",
       "<table border=\"1\" class=\"dataframe\">\n",
       "  <thead>\n",
       "    <tr style=\"text-align: right;\">\n",
       "      <th></th>\n",
       "      <th>YEAR</th>\n",
       "      <th>MONTH</th>\n",
       "      <th>SUPPLIER</th>\n",
       "      <th>ITEM CODE</th>\n",
       "      <th>ITEM DESCRIPTION</th>\n",
       "      <th>ITEM TYPE</th>\n",
       "      <th>RETAIL SALES</th>\n",
       "      <th>RETAIL TRANSFERS</th>\n",
       "      <th>WAREHOUSE SALES</th>\n",
       "    </tr>\n",
       "  </thead>\n",
       "  <tbody>\n",
       "    <tr>\n",
       "      <th>0</th>\n",
       "      <td>2020</td>\n",
       "      <td>January</td>\n",
       "      <td>REPUBLIC NATIONAL DISTRIBUTING CO</td>\n",
       "      <td>100009</td>\n",
       "      <td>BOOTLEG RED - 750ML</td>\n",
       "      <td>WINE</td>\n",
       "      <td>0.0</td>\n",
       "      <td>0.0</td>\n",
       "      <td>2.0</td>\n",
       "    </tr>\n",
       "    <tr>\n",
       "      <th>1</th>\n",
       "      <td>2020</td>\n",
       "      <td>January</td>\n",
       "      <td>PWSWN INC</td>\n",
       "      <td>100024</td>\n",
       "      <td>MOMENT DE PLAISIR - 750ML</td>\n",
       "      <td>WINE</td>\n",
       "      <td>0.0</td>\n",
       "      <td>1.0</td>\n",
       "      <td>4.0</td>\n",
       "    </tr>\n",
       "  </tbody>\n",
       "</table>\n",
       "</div>"
      ],
      "text/plain": [
       "   YEAR    MONTH                           SUPPLIER ITEM CODE  \\\n",
       "0  2020  January  REPUBLIC NATIONAL DISTRIBUTING CO    100009   \n",
       "1  2020  January                          PWSWN INC    100024   \n",
       "\n",
       "            ITEM DESCRIPTION ITEM TYPE  RETAIL SALES  RETAIL TRANSFERS  \\\n",
       "0        BOOTLEG RED - 750ML      WINE           0.0               0.0   \n",
       "1  MOMENT DE PLAISIR - 750ML      WINE           0.0               1.0   \n",
       "\n",
       "   WAREHOUSE SALES  \n",
       "0              2.0  \n",
       "1              4.0  "
      ]
     },
     "execution_count": 21,
     "metadata": {},
     "output_type": "execute_result"
    }
   ],
   "source": [
    "df3.head(2)"
   ]
  },
  {
   "cell_type": "markdown",
   "id": "2b9b089b-e6dc-45d2-ba32-225a5610ae13",
   "metadata": {},
   "source": [
    "### 1. what is the total, average and max quantity sold in Retails and Warehouse Sales"
   ]
  },
  {
   "cell_type": "code",
   "execution_count": 22,
   "id": "ad42d578-5c7c-41b5-92d5-a0c8ec6505b8",
   "metadata": {},
   "outputs": [
    {
     "data": {
      "text/html": [
       "<div>\n",
       "<style scoped>\n",
       "    .dataframe tbody tr th:only-of-type {\n",
       "        vertical-align: middle;\n",
       "    }\n",
       "\n",
       "    .dataframe tbody tr th {\n",
       "        vertical-align: top;\n",
       "    }\n",
       "\n",
       "    .dataframe thead th {\n",
       "        text-align: right;\n",
       "    }\n",
       "</style>\n",
       "<table border=\"1\" class=\"dataframe\">\n",
       "  <thead>\n",
       "    <tr style=\"text-align: right;\">\n",
       "      <th></th>\n",
       "      <th>mean</th>\n",
       "      <th>max</th>\n",
       "      <th>sum</th>\n",
       "    </tr>\n",
       "    <tr>\n",
       "      <th>ITEM TYPE</th>\n",
       "      <th></th>\n",
       "      <th></th>\n",
       "      <th></th>\n",
       "    </tr>\n",
       "  </thead>\n",
       "  <tbody>\n",
       "    <tr>\n",
       "      <th>BEER</th>\n",
       "      <td>13.538786</td>\n",
       "      <td>1494.00</td>\n",
       "      <td>574220.53</td>\n",
       "    </tr>\n",
       "    <tr>\n",
       "      <th>DUNNAGE</th>\n",
       "      <td>0.000000</td>\n",
       "      <td>0.00</td>\n",
       "      <td>0.00</td>\n",
       "    </tr>\n",
       "    <tr>\n",
       "      <th>KEGS</th>\n",
       "      <td>0.000000</td>\n",
       "      <td>0.00</td>\n",
       "      <td>0.00</td>\n",
       "    </tr>\n",
       "    <tr>\n",
       "      <th>LIQUOR</th>\n",
       "      <td>12.366221</td>\n",
       "      <td>1816.49</td>\n",
       "      <td>802691.43</td>\n",
       "    </tr>\n",
       "    <tr>\n",
       "      <th>NON-ALCOHOL</th>\n",
       "      <td>17.892026</td>\n",
       "      <td>2739.00</td>\n",
       "      <td>34084.31</td>\n",
       "    </tr>\n",
       "    <tr>\n",
       "      <th>REF</th>\n",
       "      <td>5.225433</td>\n",
       "      <td>36.00</td>\n",
       "      <td>663.63</td>\n",
       "    </tr>\n",
       "    <tr>\n",
       "      <th>STR_SUPPLIES</th>\n",
       "      <td>6.767605</td>\n",
       "      <td>368.64</td>\n",
       "      <td>2740.88</td>\n",
       "    </tr>\n",
       "    <tr>\n",
       "      <th>WINE</th>\n",
       "      <td>3.978355</td>\n",
       "      <td>813.84</td>\n",
       "      <td>746498.59</td>\n",
       "    </tr>\n",
       "  </tbody>\n",
       "</table>\n",
       "</div>"
      ],
      "text/plain": [
       "                   mean      max        sum\n",
       "ITEM TYPE                                  \n",
       "BEER          13.538786  1494.00  574220.53\n",
       "DUNNAGE        0.000000     0.00       0.00\n",
       "KEGS           0.000000     0.00       0.00\n",
       "LIQUOR        12.366221  1816.49  802691.43\n",
       "NON-ALCOHOL   17.892026  2739.00   34084.31\n",
       "REF            5.225433    36.00     663.63\n",
       "STR_SUPPLIES   6.767605   368.64    2740.88\n",
       "WINE           3.978355   813.84  746498.59"
      ]
     },
     "execution_count": 22,
     "metadata": {},
     "output_type": "execute_result"
    }
   ],
   "source": [
    "# 1a. what is the total, average and max quantity sold in Retails Sales\n",
    "\n",
    "avg_retail = df3.groupby('ITEM TYPE')['RETAIL SALES'].agg(['mean','max','sum'])\n",
    "avg_retail"
   ]
  },
  {
   "cell_type": "markdown",
   "id": "e35f898e-bfb6-48d9-8eff-d64d8828f1d9",
   "metadata": {},
   "source": [
    "* IN Retail Sales The total quantity of Beer sold is 574220.5 quantity, the maximum is 1490 quantity and the average is 13.5 quantity\n",
    "* DUNNAGE and Kegs Items don't have any sales\n",
    "* The total quantity of Liquor sold is 802691 quantity, the Maximum is 1816 and the Average is 12 Quantity\n",
    "* Non-alcohol has a total of 34084 quantity sold, the maximum is 2739 quantity, and the Average is 17.8 quantity\n",
    "* Ref has a total of 663.6 quantities sold, the maximum is 36 quantities, and the average is 5 quantities\n",
    "* The total quantity of Str_Supplies sold is 2740.8 quantity, the Maximum is 368.8 and the Average is 6.7 Quantity\n",
    "* The total quantity of Wine sold is 746498.5 quantity, the Maximum is 813.8 and the Average is 3.9 Quantity"
   ]
  },
  {
   "cell_type": "code",
   "execution_count": 23,
   "id": "855e0755-c5e8-44f6-83a8-41c6a52d68b3",
   "metadata": {},
   "outputs": [
    {
     "data": {
      "text/plain": [
       "Text(0, 0.5, 'Average Quantity Sold')"
      ]
     },
     "execution_count": 23,
     "metadata": {},
     "output_type": "execute_result"
    },
    {
     "data": {
      "image/png": "[encoded data removed]",
      "text/plain": [
       "<Figure size 900x500 with 1 Axes>"
      ]
     },
     "metadata": {},
     "output_type": "display_data"
    }
   ],
   "source": [
    "# (1ai). what is the average sold in Retails Sales\n",
    "\n",
    "avg_retail = df3.groupby('ITEM TYPE')['RETAIL SALES'].agg(['mean'])\n",
    "avg_retail.plot.bar(figsize =(9,5))\n",
    "plt.title('Average Quantity Sold in Retail Sales')\n",
    "plt.xlabel('Item Type')\n",
    "plt.ylabel('Average Quantity Sold')"
   ]
  },
  {
   "cell_type": "markdown",
   "id": "4df02911-2267-4f0f-97c2-94f9497d74e3",
   "metadata": {},
   "source": [
    "* DUNNAGE and Kegs Items don't have any quantity sold in retail Sales\n",
    "* Non-alcohol has the most average quantity sold with 17.8 followed by Beer with 13.5 quantity sold\n",
    "* Liquor has a moderate average sold with 12 quantities, followed by str_supplies with 6.7 quantities sold\n",
    "* Ref has the lowest average sold with 5 quantities and Wine has 3.9 quantities Sold"
   ]
  },
  {
   "cell_type": "code",
   "execution_count": 24,
   "id": "aa9a53f2-8585-4a60-9d86-4ad59a61a5c8",
   "metadata": {},
   "outputs": [
    {
     "data": {
      "text/plain": [
       "Text(0, 0.5, 'Maximum Quantity Sold')"
      ]
     },
     "execution_count": 24,
     "metadata": {},
     "output_type": "execute_result"
    },
    {
     "data": {
      "image/png": "[encoded data removed]",
      "text/plain": [
       "<Figure size 900x500 with 1 Axes>"
      ]
     },
     "metadata": {},
     "output_type": "display_data"
    }
   ],
   "source": [
    "# (1aii). what is the maximum quantity sold in Retails Sales\n",
    "\n",
    "avg_retail = df3.groupby('ITEM TYPE')['RETAIL SALES'].agg(['max'])\n",
    "avg_retail.plot.bar(figsize =(9,5), color=('green'))\n",
    "plt.title('Maximum Quantity Sold in Retail Sales')\n",
    "plt.xlabel('Item Type')\n",
    "plt.ylabel('Maximum Quantity Sold')"
   ]
  },
  {
   "cell_type": "markdown",
   "id": "04cd0858-1816-42db-bf46-a7d23452ecea",
   "metadata": {},
   "source": [
    "* DUNNAGE and Kegs Items don't have any quantity sold in retail Sales\n",
    "* Non-alcohol has the highest maximum sold with 2739 quantity \n",
    "* Liquor has a moderate maximum sold with 1816 quantities, followed by Beer with 1494 quantities sold\n",
    "* Wine has a low maximum sold with 813 quantities, followed by Str_Supplies with lower sold of 368 quantities \n",
    "* Ref has the lowest maximum sold with 36 quantities"
   ]
  },
  {
   "cell_type": "code",
   "execution_count": 25,
   "id": "c847bfc0-065e-4480-bf78-c728d643bc8f",
   "metadata": {},
   "outputs": [
    {
     "data": {
      "text/plain": [
       "Text(0, 0.5, 'Maximum Quantity Sold')"
      ]
     },
     "execution_count": 25,
     "metadata": {},
     "output_type": "execute_result"
    },
    {
     "data": {
      "image/png": "[encoded data removed]",
      "text/plain": [
       "<Figure size 900x500 with 1 Axes>"
      ]
     },
     "metadata": {},
     "output_type": "display_data"
    }
   ],
   "source": [
    "# (1aiii). what is the total quantity sold in Retails Sales\n",
    "\n",
    "avg_retail = df3.groupby('ITEM TYPE')['RETAIL SALES'].agg(['sum'])\n",
    "avg_retail.plot.bar(figsize =(9,5), color=('green'))\n",
    "plt.title('Toatl Quantity Sold in Retail Sales')\n",
    "plt.xlabel('Item Type')\n",
    "plt.ylabel('Maximum Quantity Sold')"
   ]
  },
  {
   "cell_type": "markdown",
   "id": "ea2a420c-feeb-415c-afe0-c79e803903de",
   "metadata": {},
   "source": [
    "* DUNNAGE and Kegs Items don't have any quantity sold in retail Sales\n",
    "* Liquor has the highest total sold with 802691 quantities, followed by Wine with 746498.5 quantities sold\n",
    "* Beer has a moderate total sold with 574220 quantities\n",
    "* Non-alcohol has a low total sold with 34084 quantities, followed by Str_Supplies with lower sold of 2740 quantities \n",
    "* Ref has the lowest total sold with 663 quantities"
   ]
  },
  {
   "cell_type": "code",
   "execution_count": 26,
   "id": "829fbef8-ebe4-4e0f-a17d-9a8a87fdfc2e",
   "metadata": {},
   "outputs": [
    {
     "data": {
      "text/html": [
       "<div>\n",
       "<style scoped>\n",
       "    .dataframe tbody tr th:only-of-type {\n",
       "        vertical-align: middle;\n",
       "    }\n",
       "\n",
       "    .dataframe tbody tr th {\n",
       "        vertical-align: top;\n",
       "    }\n",
       "\n",
       "    .dataframe thead th {\n",
       "        text-align: right;\n",
       "    }\n",
       "</style>\n",
       "<table border=\"1\" class=\"dataframe\">\n",
       "  <thead>\n",
       "    <tr style=\"text-align: right;\">\n",
       "      <th></th>\n",
       "      <th>mean</th>\n",
       "      <th>max</th>\n",
       "      <th>sum</th>\n",
       "    </tr>\n",
       "    <tr>\n",
       "      <th>ITEM TYPE</th>\n",
       "      <th></th>\n",
       "      <th></th>\n",
       "      <th></th>\n",
       "    </tr>\n",
       "  </thead>\n",
       "  <tbody>\n",
       "    <tr>\n",
       "      <th>BEER</th>\n",
       "      <td>153.897072</td>\n",
       "      <td>18317.0</td>\n",
       "      <td>6527236.51</td>\n",
       "    </tr>\n",
       "    <tr>\n",
       "      <th>DUNNAGE</th>\n",
       "      <td>-1278.463158</td>\n",
       "      <td>-1.0</td>\n",
       "      <td>-121454.00</td>\n",
       "    </tr>\n",
       "    <tr>\n",
       "      <th>KEGS</th>\n",
       "      <td>11.672679</td>\n",
       "      <td>604.0</td>\n",
       "      <td>118431.00</td>\n",
       "    </tr>\n",
       "    <tr>\n",
       "      <th>LIQUOR</th>\n",
       "      <td>1.462121</td>\n",
       "      <td>438.0</td>\n",
       "      <td>94906.27</td>\n",
       "    </tr>\n",
       "    <tr>\n",
       "      <th>NON-ALCOHOL</th>\n",
       "      <td>13.705236</td>\n",
       "      <td>297.0</td>\n",
       "      <td>26149.59</td>\n",
       "    </tr>\n",
       "    <tr>\n",
       "      <th>REF</th>\n",
       "      <td>-161.409449</td>\n",
       "      <td>298.0</td>\n",
       "      <td>-20499.00</td>\n",
       "    </tr>\n",
       "    <tr>\n",
       "      <th>STR_SUPPLIES</th>\n",
       "      <td>0.000000</td>\n",
       "      <td>0.0</td>\n",
       "      <td>0.00</td>\n",
       "    </tr>\n",
       "    <tr>\n",
       "      <th>WINE</th>\n",
       "      <td>6.165982</td>\n",
       "      <td>662.0</td>\n",
       "      <td>1156984.91</td>\n",
       "    </tr>\n",
       "  </tbody>\n",
       "</table>\n",
       "</div>"
      ],
      "text/plain": [
       "                     mean      max         sum\n",
       "ITEM TYPE                                     \n",
       "BEER           153.897072  18317.0  6527236.51\n",
       "DUNNAGE      -1278.463158     -1.0  -121454.00\n",
       "KEGS            11.672679    604.0   118431.00\n",
       "LIQUOR           1.462121    438.0    94906.27\n",
       "NON-ALCOHOL     13.705236    297.0    26149.59\n",
       "REF           -161.409449    298.0   -20499.00\n",
       "STR_SUPPLIES     0.000000      0.0        0.00\n",
       "WINE             6.165982    662.0  1156984.91"
      ]
     },
     "execution_count": 26,
     "metadata": {},
     "output_type": "execute_result"
    }
   ],
   "source": [
    "# 1b. what is the total, average and max quantity sold in Warehouse Sales\n",
    "\n",
    "avg_warehouse = df3.groupby('ITEM TYPE')['WAREHOUSE SALES'].agg(['mean','max','sum'])\n",
    "avg_warehouse"
   ]
  },
  {
   "cell_type": "markdown",
   "id": "ad6590bd-d8c6-4e9c-b33f-2f7d9e0bd9f1",
   "metadata": {},
   "source": [
    "#### IN Warehouse Sales \n",
    "* The total quantity of Beer sold is 6527236.5 quantity, the maximum is 183170 quantity and the average is 15.3 quantity\n",
    "* Dunnage sold in debit with the total quantity of (-121454), the maximum debit is (-1) quantity, and the average debt is (-1278) quantity\n",
    "* The total quantity of Kegs sold is 118431 quantity, the maximum is 604 quantity and the average is 11.6 quantity\n",
    "* The total quantity of Liquor sold is 94906 quantity, the Maximum is 438 and the Average is 1.4 Quantity\n",
    "* Non-alcohol has a total of 26149.5 quantity sold, the maximum is 297 quantity, and the Average is 13.7 quantity\n",
    "* Ref has a debit of total sold (-20499) quantities, the maximum is 298 quantities, and the average debt is (-161) quantities\n",
    "* Str_supplies Items don't have any quantity sold in Warehouse Sales\n",
    "* The total quantity of Wine sold is 1156984.9 quantity, the Maximum is 662 and the Average is 6 Quantity"
   ]
  },
  {
   "cell_type": "code",
   "execution_count": 27,
   "id": "35dd93f8-af51-40e5-bcb3-3a1942bba83f",
   "metadata": {},
   "outputs": [
    {
     "data": {
      "text/html": [
       "<div>\n",
       "<style scoped>\n",
       "    .dataframe tbody tr th:only-of-type {\n",
       "        vertical-align: middle;\n",
       "    }\n",
       "\n",
       "    .dataframe tbody tr th {\n",
       "        vertical-align: top;\n",
       "    }\n",
       "\n",
       "    .dataframe thead th {\n",
       "        text-align: right;\n",
       "    }\n",
       "</style>\n",
       "<table border=\"1\" class=\"dataframe\">\n",
       "  <thead>\n",
       "    <tr style=\"text-align: right;\">\n",
       "      <th></th>\n",
       "      <th>ITEM TYPE</th>\n",
       "      <th>WAREHOUSE SALES</th>\n",
       "    </tr>\n",
       "  </thead>\n",
       "  <tbody>\n",
       "    <tr>\n",
       "      <th>177</th>\n",
       "      <td>REF</td>\n",
       "      <td>0.0</td>\n",
       "    </tr>\n",
       "    <tr>\n",
       "      <th>405</th>\n",
       "      <td>DUNNAGE</td>\n",
       "      <td>-12.0</td>\n",
       "    </tr>\n",
       "    <tr>\n",
       "      <th>822</th>\n",
       "      <td>DUNNAGE</td>\n",
       "      <td>-3999.0</td>\n",
       "    </tr>\n",
       "    <tr>\n",
       "      <th>1011</th>\n",
       "      <td>DUNNAGE</td>\n",
       "      <td>-934.0</td>\n",
       "    </tr>\n",
       "    <tr>\n",
       "      <th>2310</th>\n",
       "      <td>DUNNAGE</td>\n",
       "      <td>-287.0</td>\n",
       "    </tr>\n",
       "    <tr>\n",
       "      <th>8434</th>\n",
       "      <td>REF</td>\n",
       "      <td>0.0</td>\n",
       "    </tr>\n",
       "    <tr>\n",
       "      <th>11985</th>\n",
       "      <td>REF</td>\n",
       "      <td>-1028.0</td>\n",
       "    </tr>\n",
       "    <tr>\n",
       "      <th>11986</th>\n",
       "      <td>REF</td>\n",
       "      <td>-77.0</td>\n",
       "    </tr>\n",
       "    <tr>\n",
       "      <th>12186</th>\n",
       "      <td>REF</td>\n",
       "      <td>0.0</td>\n",
       "    </tr>\n",
       "    <tr>\n",
       "      <th>12382</th>\n",
       "      <td>DUNNAGE</td>\n",
       "      <td>-2.0</td>\n",
       "    </tr>\n",
       "    <tr>\n",
       "      <th>12786</th>\n",
       "      <td>DUNNAGE</td>\n",
       "      <td>-1675.0</td>\n",
       "    </tr>\n",
       "    <tr>\n",
       "      <th>12965</th>\n",
       "      <td>DUNNAGE</td>\n",
       "      <td>-362.0</td>\n",
       "    </tr>\n",
       "    <tr>\n",
       "      <th>14357</th>\n",
       "      <td>DUNNAGE</td>\n",
       "      <td>-168.0</td>\n",
       "    </tr>\n",
       "    <tr>\n",
       "      <th>23212</th>\n",
       "      <td>REF</td>\n",
       "      <td>-190.0</td>\n",
       "    </tr>\n",
       "    <tr>\n",
       "      <th>23213</th>\n",
       "      <td>REF</td>\n",
       "      <td>-34.0</td>\n",
       "    </tr>\n",
       "    <tr>\n",
       "      <th>24236</th>\n",
       "      <td>REF</td>\n",
       "      <td>0.0</td>\n",
       "    </tr>\n",
       "    <tr>\n",
       "      <th>24448</th>\n",
       "      <td>DUNNAGE</td>\n",
       "      <td>-2.0</td>\n",
       "    </tr>\n",
       "    <tr>\n",
       "      <th>24866</th>\n",
       "      <td>DUNNAGE</td>\n",
       "      <td>-2070.0</td>\n",
       "    </tr>\n",
       "    <tr>\n",
       "      <th>25055</th>\n",
       "      <td>DUNNAGE</td>\n",
       "      <td>-562.0</td>\n",
       "    </tr>\n",
       "    <tr>\n",
       "      <th>26380</th>\n",
       "      <td>DUNNAGE</td>\n",
       "      <td>-166.0</td>\n",
       "    </tr>\n",
       "  </tbody>\n",
       "</table>\n",
       "</div>"
      ],
      "text/plain": [
       "      ITEM TYPE  WAREHOUSE SALES\n",
       "177         REF              0.0\n",
       "405     DUNNAGE            -12.0\n",
       "822     DUNNAGE          -3999.0\n",
       "1011    DUNNAGE           -934.0\n",
       "2310    DUNNAGE           -287.0\n",
       "8434        REF              0.0\n",
       "11985       REF          -1028.0\n",
       "11986       REF            -77.0\n",
       "12186       REF              0.0\n",
       "12382   DUNNAGE             -2.0\n",
       "12786   DUNNAGE          -1675.0\n",
       "12965   DUNNAGE           -362.0\n",
       "14357   DUNNAGE           -168.0\n",
       "23212       REF           -190.0\n",
       "23213       REF            -34.0\n",
       "24236       REF              0.0\n",
       "24448   DUNNAGE             -2.0\n",
       "24866   DUNNAGE          -2070.0\n",
       "25055   DUNNAGE           -562.0\n",
       "26380   DUNNAGE           -166.0"
      ]
     },
     "execution_count": 27,
     "metadata": {},
     "output_type": "execute_result"
    }
   ],
   "source": [
    "# inspect the Warehouse sales column\n",
    "\n",
    "warehouse_sale = df3[['ITEM TYPE','WAREHOUSE SALES']]\n",
    "warehouse_sale.query('`ITEM TYPE` in [\"DUNNAGE\",\"REF\"]').head(20)"
   ]
  },
  {
   "cell_type": "code",
   "execution_count": 28,
   "id": "9179ab31-4a85-434b-b0cd-92764d700f90",
   "metadata": {},
   "outputs": [
    {
     "data": {
      "text/plain": [
       "<Axes: title={'center': 'Total Quantity Sold in Warehouse Sales'}, xlabel='Item Type', ylabel='Total Quantity Sold'>"
      ]
     },
     "execution_count": 28,
     "metadata": {},
     "output_type": "execute_result"
    },
    {
     "data": {
      "image/png": "[encoded data removed]",
      "text/plain": [
       "<Figure size 800x500 with 1 Axes>"
      ]
     },
     "metadata": {},
     "output_type": "display_data"
    },
    {
     "data": {
      "image/png": "[encoded data removed]",
      "text/plain": [
       "<Figure size 800x500 with 1 Axes>"
      ]
     },
     "metadata": {},
     "output_type": "display_data"
    },
    {
     "data": {
      "image/png": "[encoded data removed]",
      "text/plain": [
       "<Figure size 800x500 with 1 Axes>"
      ]
     },
     "metadata": {},
     "output_type": "display_data"
    }
   ],
   "source": [
    "# (1bi). what is the Total, average and maximum quantity sold in the Warehouse\n",
    "\n",
    "# Average Quantity Sold in Warehouse Sales\n",
    "avg_warehouse = df3.groupby('ITEM TYPE')['WAREHOUSE SALES'].agg(['mean'])\n",
    "avg_warehouse.query('`ITEM TYPE` not in [\"DUNNAGE\",\"REF\"]')\\\n",
    ".plot.bar(figsize = (8,5), title = ('Average Quantity Sold in Warehouse Sales'),\\\n",
    "         xlabel = ('Item Type'),ylabel = ('Average Quantity Sold'),color = 'red')\n",
    "\n",
    "# Maximum Quantity Sold in Warehouse Sales\n",
    "avg_warehouse = df3.groupby('ITEM TYPE')['WAREHOUSE SALES'].agg(['max'])\n",
    "avg_warehouse.query('`ITEM TYPE` not in [\"DUNNAGE\",\"REF\"]')\\\n",
    ".plot.bar(figsize = (8,5), title = ('Maximum Quantity Sold in Warehouse Sales'),\\\n",
    "         xlabel = ('Item Type'),ylabel = ('Maximum Quantity Sold'), color = 'green')\n",
    "\n",
    "# Total Quantity Sold in Warehouse Sales\n",
    "avg_warehouse = df3.groupby('ITEM TYPE')['WAREHOUSE SALES'].agg(['sum'])\n",
    "avg_warehouse.query('`ITEM TYPE` not in [\"DUNNAGE\",\"REF\"]')\\\n",
    ".plot.bar(figsize = (8,5), title = ('Total Quantity Sold in Warehouse Sales'),\\\n",
    "         xlabel = ('Item Type'),ylabel = ('Total Quantity Sold'), color = 'blue')\n",
    "\n"
   ]
  },
  {
   "cell_type": "markdown",
   "id": "37e7adcd-1f3a-43b8-aed8-02d3c41fec59",
   "metadata": {},
   "source": [
    "* Bear as the highest Average, maximum, and total quantity sold at Warehouse\n",
    "* The Other items Types contribute low to the Average, maximum, and total quantity sold at Warehouse"
   ]
  },
  {
   "cell_type": "code",
   "execution_count": 29,
   "id": "f39291c1-7017-4cb9-b666-51b7a3940753",
   "metadata": {},
   "outputs": [
    {
     "data": {
      "text/plain": [
       "<Axes: title={'center': 'Total Quantity Sold in Debit at Warehouse'}, xlabel='Item Type', ylabel='Maximum Quantity Sold'>"
      ]
     },
     "execution_count": 29,
     "metadata": {},
     "output_type": "execute_result"
    },
    {
     "data": {
      "image/png": "[encoded data removed]",
      "text/plain": [
       "<Figure size 800x500 with 1 Axes>"
      ]
     },
     "metadata": {},
     "output_type": "display_data"
    },
    {
     "data": {
      "image/png": "[encoded data removed]",
      "text/plain": [
       "<Figure size 800x500 with 1 Axes>"
      ]
     },
     "metadata": {},
     "output_type": "display_data"
    },
    {
     "data": {
      "image/png": "[encoded data removed]",
      "text/plain": [
       "<Figure size 800x500 with 1 Axes>"
      ]
     },
     "metadata": {},
     "output_type": "display_data"
    }
   ],
   "source": [
    "# (1bii). what is the average and maximum quantity sold Debit at Warehouse\n",
    "\n",
    "# Average Quantity Sold in Debit at Warehouse\n",
    "avg_warehouse = df3.groupby('ITEM TYPE')['WAREHOUSE SALES'].agg(['mean'])\n",
    "avg_warehouse.query('`ITEM TYPE` in [\"DUNNAGE\",\"REF\"]')\\\n",
    ".plot.bar(figsize = (8,5), title = ('Average Quantity Sold in Debit at Warehouse'),\\\n",
    "          xlabel = ('Item Type'),ylabel = ('Average Quantity Sold'), color = 'yellow')\n",
    "\n",
    "# Maximum Quantity Sold in Debit at Warehouse\n",
    "avg_warehouse = df3.groupby('ITEM TYPE')['WAREHOUSE SALES'].agg(['max'])\n",
    "avg_warehouse.query('`ITEM TYPE` in [\"DUNNAGE\",\"REF\"]')\\\n",
    ".plot.bar(figsize = (8,5),title = ('Maximum Quantity Sold in Debit at Warehouse'),\\\n",
    "        xlabel = ('Item Type'),ylabel = ('Maximum Quantity Sold'),color = 'pink')\n",
    "\n",
    "# Total Quantity Sold in Debit at Warehouse\n",
    "avg_warehouse = df3.groupby('ITEM TYPE')['WAREHOUSE SALES'].agg(['sum'])\n",
    "avg_warehouse.query('`ITEM TYPE` in [\"DUNNAGE\",\"REF\"]')\\\n",
    ".plot.bar(figsize = (8,5),title = ('Total Quantity Sold in Debit at Warehouse'),\\\n",
    "        xlabel = ('Item Type'),ylabel = ('Maximum Quantity Sold'),color = 'blue')\n"
   ]
  },
  {
   "cell_type": "markdown",
   "id": "50242313-fd09-4532-ab81-deb50305c5e8",
   "metadata": {},
   "source": [
    "* Dunnage has the highest total, and average quantity sold in debt and has the lowest maximum quantity sold debt in the warehouse\n",
    "* Ref has the lower average and total quantity sold in debt and has the moderate maximum that isn't sold in debt in the warehouse "
   ]
  },
  {
   "cell_type": "markdown",
   "id": "19abc821-4cf0-4a44-a95a-97f46e404c0b",
   "metadata": {},
   "source": [
    "### 2. what is the total quantity sold in Retail Sales and Warehouse Sales"
   ]
  },
  {
   "cell_type": "code",
   "execution_count": 30,
   "id": "8205223a-ec06-49bc-aecb-9f7302be9341",
   "metadata": {},
   "outputs": [
    {
     "name": "stdout",
     "output_type": "stream",
     "text": [
      "The told Quantity sold in Retail Sales for four years is: 2160899.37\n"
     ]
    }
   ],
   "source": [
    "# (2ai) What is the total quantity sold in Retail Sales\n",
    "\n",
    "retail_quantity_sold = df3['RETAIL SALES'].agg('sum')\n",
    "print(f'The told Quantity sold in Retail Sales for four years is: {retail_quantity_sold}')"
   ]
  },
  {
   "cell_type": "code",
   "execution_count": 31,
   "id": "f15c5c0e-db3a-42c4-b7e5-adf45e274cf4",
   "metadata": {},
   "outputs": [
    {
     "name": "stdout",
     "output_type": "stream",
     "text": [
      "The told Quantity sold in Warehouse Sales for four years is: 7781756.280000001\n"
     ]
    }
   ],
   "source": [
    "# (2aii) what is the total quantity sold in Warehouse Sales\n",
    "\n",
    "warehouse_quantity_sold = df3['WAREHOUSE SALES'].agg('sum')\n",
    "print(f'The told Quantity sold in Warehouse Sales for four years is: {warehouse_quantity_sold}')"
   ]
  },
  {
   "cell_type": "markdown",
   "id": "9038caef-8396-4fde-acdf-3f3403079293",
   "metadata": {},
   "source": [
    "#### 3.calculate yearly quantity for (RETAIL SALES), transfers (RETAIL TRANSFERS), and warehouse sales (WAREHOUSE SALES)."
   ]
  },
  {
   "cell_type": "code",
   "execution_count": 32,
   "id": "b6609632-c895-40fc-8125-ca9d7e50f139",
   "metadata": {},
   "outputs": [
    {
     "data": {
      "text/html": [
       "<div>\n",
       "<style scoped>\n",
       "    .dataframe tbody tr th:only-of-type {\n",
       "        vertical-align: middle;\n",
       "    }\n",
       "\n",
       "    .dataframe tbody tr th {\n",
       "        vertical-align: top;\n",
       "    }\n",
       "\n",
       "    .dataframe thead th {\n",
       "        text-align: right;\n",
       "    }\n",
       "</style>\n",
       "<table border=\"1\" class=\"dataframe\">\n",
       "  <thead>\n",
       "    <tr style=\"text-align: right;\">\n",
       "      <th></th>\n",
       "      <th>RETAIL SALES</th>\n",
       "      <th>RETAIL TRANSFERS</th>\n",
       "      <th>WAREHOUSE SALES</th>\n",
       "    </tr>\n",
       "    <tr>\n",
       "      <th>YEAR</th>\n",
       "      <th></th>\n",
       "      <th></th>\n",
       "      <th></th>\n",
       "    </tr>\n",
       "  </thead>\n",
       "  <tbody>\n",
       "    <tr>\n",
       "      <th>2017</th>\n",
       "      <td>686734.57</td>\n",
       "      <td>676620.50</td>\n",
       "      <td>2333849.13</td>\n",
       "    </tr>\n",
       "    <tr>\n",
       "      <th>2018</th>\n",
       "      <td>153595.90</td>\n",
       "      <td>153652.92</td>\n",
       "      <td>519526.19</td>\n",
       "    </tr>\n",
       "    <tr>\n",
       "      <th>2019</th>\n",
       "      <td>960191.20</td>\n",
       "      <td>957562.40</td>\n",
       "      <td>3543371.23</td>\n",
       "    </tr>\n",
       "    <tr>\n",
       "      <th>2020</th>\n",
       "      <td>360377.70</td>\n",
       "      <td>346132.81</td>\n",
       "      <td>1385009.73</td>\n",
       "    </tr>\n",
       "  </tbody>\n",
       "</table>\n",
       "</div>"
      ],
      "text/plain": [
       "      RETAIL SALES  RETAIL TRANSFERS  WAREHOUSE SALES\n",
       "YEAR                                                 \n",
       "2017     686734.57         676620.50       2333849.13\n",
       "2018     153595.90         153652.92        519526.19\n",
       "2019     960191.20         957562.40       3543371.23\n",
       "2020     360377.70         346132.81       1385009.73"
      ]
     },
     "execution_count": 32,
     "metadata": {},
     "output_type": "execute_result"
    }
   ],
   "source": [
    "year_sale = df3.groupby('YEAR')[['RETAIL SALES','RETAIL TRANSFERS','WAREHOUSE SALES']].agg('sum')\n",
    "year_sale"
   ]
  },
  {
   "cell_type": "code",
   "execution_count": 33,
   "id": "0719176e-2610-449d-8973-9facfee46eae",
   "metadata": {},
   "outputs": [
    {
     "data": {
      "text/plain": [
       "<Axes: title={'center': 'Yearly Quantity Retail Sales Retail Transfers and Warehouse'}, xlabel='YEAR'>"
      ]
     },
     "execution_count": 33,
     "metadata": {},
     "output_type": "execute_result"
    },
    {
     "data": {
      "image/png": "[encoded data removed]",
      "text/plain": [
       "<Figure size 900x600 with 1 Axes>"
      ]
     },
     "metadata": {},
     "output_type": "display_data"
    }
   ],
   "source": [
    "year_sale.plot.bar(title = 'Yearly Quantity Retail Sales Retail Transfers and Warehouse', figsize = (9,6))"
   ]
  },
  {
   "cell_type": "markdown",
   "id": "d2a9e378-50ae-47bc-a092-eedc6c28409d",
   "metadata": {},
   "source": [
    "* Throughout the Year Warehouse sales have the highest quantity sold\n",
    "* Retail sales and Retail Transfers have a moderate  quantity sold\n",
    "* 2018 has the lowest quantity sold\n",
    "* In 2019 warehouse had the highest quantity sold, followed by 2017, 2020, and 2018\n",
    "* In 2019 Retail sales and Retail Transfers had a moderate quantity sold, followed by 2017, 2020, and 2018"
   ]
  },
  {
   "cell_type": "markdown",
   "id": "f2be78f0-d148-452b-998d-12650e366434",
   "metadata": {},
   "source": [
    "#### 4. What is the Monthly quantity for (RETAIL SALES), transfers (RETAIL TRANSFERS), and warehouse sales (WAREHOUSE SALES) for each year."
   ]
  },
  {
   "cell_type": "code",
   "execution_count": 34,
   "id": "bb227fb7-4bf5-428f-b267-b5b4902c8012",
   "metadata": {},
   "outputs": [
    {
     "data": {
      "text/html": [
       "<div>\n",
       "<style scoped>\n",
       "    .dataframe tbody tr th:only-of-type {\n",
       "        vertical-align: middle;\n",
       "    }\n",
       "\n",
       "    .dataframe tbody tr th {\n",
       "        vertical-align: top;\n",
       "    }\n",
       "\n",
       "    .dataframe thead th {\n",
       "        text-align: right;\n",
       "    }\n",
       "</style>\n",
       "<table border=\"1\" class=\"dataframe\">\n",
       "  <thead>\n",
       "    <tr style=\"text-align: right;\">\n",
       "      <th></th>\n",
       "      <th>YEAR</th>\n",
       "      <th>MONTH</th>\n",
       "      <th>SUPPLIER</th>\n",
       "      <th>ITEM CODE</th>\n",
       "      <th>ITEM DESCRIPTION</th>\n",
       "      <th>ITEM TYPE</th>\n",
       "      <th>RETAIL SALES</th>\n",
       "      <th>RETAIL TRANSFERS</th>\n",
       "      <th>WAREHOUSE SALES</th>\n",
       "    </tr>\n",
       "  </thead>\n",
       "  <tbody>\n",
       "    <tr>\n",
       "      <th>0</th>\n",
       "      <td>2020</td>\n",
       "      <td>January</td>\n",
       "      <td>REPUBLIC NATIONAL DISTRIBUTING CO</td>\n",
       "      <td>100009</td>\n",
       "      <td>BOOTLEG RED - 750ML</td>\n",
       "      <td>WINE</td>\n",
       "      <td>0.0</td>\n",
       "      <td>0.0</td>\n",
       "      <td>2.0</td>\n",
       "    </tr>\n",
       "    <tr>\n",
       "      <th>1</th>\n",
       "      <td>2020</td>\n",
       "      <td>January</td>\n",
       "      <td>PWSWN INC</td>\n",
       "      <td>100024</td>\n",
       "      <td>MOMENT DE PLAISIR - 750ML</td>\n",
       "      <td>WINE</td>\n",
       "      <td>0.0</td>\n",
       "      <td>1.0</td>\n",
       "      <td>4.0</td>\n",
       "    </tr>\n",
       "    <tr>\n",
       "      <th>2</th>\n",
       "      <td>2020</td>\n",
       "      <td>January</td>\n",
       "      <td>RELIABLE CHURCHILL LLLP</td>\n",
       "      <td>1001</td>\n",
       "      <td>S SMITH ORGANIC PEAR CIDER - 18.7OZ</td>\n",
       "      <td>BEER</td>\n",
       "      <td>0.0</td>\n",
       "      <td>0.0</td>\n",
       "      <td>1.0</td>\n",
       "    </tr>\n",
       "  </tbody>\n",
       "</table>\n",
       "</div>"
      ],
      "text/plain": [
       "   YEAR    MONTH                           SUPPLIER ITEM CODE  \\\n",
       "0  2020  January  REPUBLIC NATIONAL DISTRIBUTING CO    100009   \n",
       "1  2020  January                          PWSWN INC    100024   \n",
       "2  2020  January            RELIABLE CHURCHILL LLLP      1001   \n",
       "\n",
       "                      ITEM DESCRIPTION ITEM TYPE  RETAIL SALES  \\\n",
       "0                  BOOTLEG RED - 750ML      WINE           0.0   \n",
       "1            MOMENT DE PLAISIR - 750ML      WINE           0.0   \n",
       "2  S SMITH ORGANIC PEAR CIDER - 18.7OZ      BEER           0.0   \n",
       "\n",
       "   RETAIL TRANSFERS  WAREHOUSE SALES  \n",
       "0               0.0              2.0  \n",
       "1               1.0              4.0  \n",
       "2               0.0              1.0  "
      ]
     },
     "execution_count": 34,
     "metadata": {},
     "output_type": "execute_result"
    }
   ],
   "source": [
    "df3.head(3)"
   ]
  },
  {
   "cell_type": "code",
   "execution_count": 35,
   "id": "ae45c491-3333-4256-8e3e-9f6a7cc96d52",
   "metadata": {},
   "outputs": [
    {
     "data": {
      "text/plain": [
       "YEAR\n",
       "2019    138638\n",
       "2017     96284\n",
       "2020     46278\n",
       "2018     26445\n",
       "Name: count, dtype: int64"
      ]
     },
     "execution_count": 35,
     "metadata": {},
     "output_type": "execute_result"
    }
   ],
   "source": [
    "df3['YEAR'].value_counts()"
   ]
  },
  {
   "cell_type": "code",
   "execution_count": 36,
   "id": "0b44f24e-d77d-4396-9cb4-1ea9249ba0fd",
   "metadata": {},
   "outputs": [
    {
     "data": {
      "text/html": [
       "<div>\n",
       "<style scoped>\n",
       "    .dataframe tbody tr th:only-of-type {\n",
       "        vertical-align: middle;\n",
       "    }\n",
       "\n",
       "    .dataframe tbody tr th {\n",
       "        vertical-align: top;\n",
       "    }\n",
       "\n",
       "    .dataframe thead th {\n",
       "        text-align: right;\n",
       "    }\n",
       "</style>\n",
       "<table border=\"1\" class=\"dataframe\">\n",
       "  <thead>\n",
       "    <tr style=\"text-align: right;\">\n",
       "      <th></th>\n",
       "      <th>YEAR</th>\n",
       "      <th>MONTH</th>\n",
       "      <th>SUPPLIER</th>\n",
       "      <th>ITEM CODE</th>\n",
       "      <th>ITEM DESCRIPTION</th>\n",
       "      <th>ITEM TYPE</th>\n",
       "      <th>RETAIL SALES</th>\n",
       "      <th>RETAIL TRANSFERS</th>\n",
       "      <th>WAREHOUSE SALES</th>\n",
       "    </tr>\n",
       "  </thead>\n",
       "  <tbody>\n",
       "    <tr>\n",
       "      <th>132279</th>\n",
       "      <td>2017</td>\n",
       "      <td>December</td>\n",
       "      <td>CLIPPER CITY BREWING CO</td>\n",
       "      <td>3140</td>\n",
       "      <td>HEAVY SEAS PEG LEG STOUT 4/6NR - 12OZ</td>\n",
       "      <td>BEER</td>\n",
       "      <td>32.33</td>\n",
       "      <td>35.0</td>\n",
       "      <td>58.96</td>\n",
       "    </tr>\n",
       "    <tr>\n",
       "      <th>84327</th>\n",
       "      <td>2017</td>\n",
       "      <td>August</td>\n",
       "      <td>LUXCO SPIRITED BRANDS</td>\n",
       "      <td>79758</td>\n",
       "      <td>LIONELLO STOCK ITALIAN SWEET VERMOUTH - 1.5L</td>\n",
       "      <td>WINE</td>\n",
       "      <td>6.41</td>\n",
       "      <td>8.0</td>\n",
       "      <td>0.00</td>\n",
       "    </tr>\n",
       "    <tr>\n",
       "      <th>74654</th>\n",
       "      <td>2017</td>\n",
       "      <td>August</td>\n",
       "      <td>LEGENDS LTD</td>\n",
       "      <td>23559</td>\n",
       "      <td>BUTTERNUT HENNIEWEISSEN 4/6 CANS - 12OZ</td>\n",
       "      <td>BEER</td>\n",
       "      <td>0.00</td>\n",
       "      <td>0.0</td>\n",
       "      <td>1.00</td>\n",
       "    </tr>\n",
       "    <tr>\n",
       "      <th>93266</th>\n",
       "      <td>2017</td>\n",
       "      <td>September</td>\n",
       "      <td>CONSTANTINE WINES INC</td>\n",
       "      <td>347911</td>\n",
       "      <td>CUVEE JEAN PAUL GASCOGNE ROSE 750 ML</td>\n",
       "      <td>WINE</td>\n",
       "      <td>0.00</td>\n",
       "      <td>0.0</td>\n",
       "      <td>1.00</td>\n",
       "    </tr>\n",
       "  </tbody>\n",
       "</table>\n",
       "</div>"
      ],
      "text/plain": [
       "        YEAR      MONTH                 SUPPLIER ITEM CODE  \\\n",
       "132279  2017   December  CLIPPER CITY BREWING CO      3140   \n",
       "84327   2017     August    LUXCO SPIRITED BRANDS     79758   \n",
       "74654   2017     August              LEGENDS LTD     23559   \n",
       "93266   2017  September    CONSTANTINE WINES INC    347911   \n",
       "\n",
       "                                    ITEM DESCRIPTION ITEM TYPE  RETAIL SALES  \\\n",
       "132279         HEAVY SEAS PEG LEG STOUT 4/6NR - 12OZ      BEER         32.33   \n",
       "84327   LIONELLO STOCK ITALIAN SWEET VERMOUTH - 1.5L      WINE          6.41   \n",
       "74654        BUTTERNUT HENNIEWEISSEN 4/6 CANS - 12OZ      BEER          0.00   \n",
       "93266           CUVEE JEAN PAUL GASCOGNE ROSE 750 ML      WINE          0.00   \n",
       "\n",
       "        RETAIL TRANSFERS  WAREHOUSE SALES  \n",
       "132279              35.0            58.96  \n",
       "84327                8.0             0.00  \n",
       "74654                0.0             1.00  \n",
       "93266                0.0             1.00  "
      ]
     },
     "execution_count": 36,
     "metadata": {},
     "output_type": "execute_result"
    }
   ],
   "source": [
    "# use filter to query 2017 come out\n",
    "\n",
    "year2017 = df3[df['YEAR'] == 2017]\n",
    "year2017.sample(4)"
   ]
  },
  {
   "cell_type": "code",
   "execution_count": 37,
   "id": "8903e962-8bda-4c14-9e2f-2efa64cf7d23",
   "metadata": {},
   "outputs": [
    {
     "data": {
      "text/plain": [
       "array(['June', 'July', 'August', 'December', 'September', 'October',\n",
       "       'November'], dtype=object)"
      ]
     },
     "execution_count": 37,
     "metadata": {},
     "output_type": "execute_result"
    }
   ],
   "source": [
    "# check how many unique Months we have in 2017\n",
    "\n",
    "year2017['MONTH'].unique()"
   ]
  },
  {
   "cell_type": "markdown",
   "id": "9eb8a235-d3d9-44f8-85e1-513e3710cb40",
   "metadata": {},
   "source": [
    "* There is only 7 column in 2017 get supply"
   ]
  },
  {
   "cell_type": "code",
   "execution_count": 38,
   "id": "dc8a463d-50eb-42b6-865b-7e707680bdb4",
   "metadata": {},
   "outputs": [
    {
     "data": {
      "text/html": [
       "<div>\n",
       "<style scoped>\n",
       "    .dataframe tbody tr th:only-of-type {\n",
       "        vertical-align: middle;\n",
       "    }\n",
       "\n",
       "    .dataframe tbody tr th {\n",
       "        vertical-align: top;\n",
       "    }\n",
       "\n",
       "    .dataframe thead th {\n",
       "        text-align: right;\n",
       "    }\n",
       "</style>\n",
       "<table border=\"1\" class=\"dataframe\">\n",
       "  <thead>\n",
       "    <tr style=\"text-align: right;\">\n",
       "      <th></th>\n",
       "      <th>RETAIL SALES</th>\n",
       "      <th>RETAIL TRANSFERS</th>\n",
       "      <th>WAREHOUSE SALES</th>\n",
       "    </tr>\n",
       "    <tr>\n",
       "      <th>MONTH</th>\n",
       "      <th></th>\n",
       "      <th></th>\n",
       "      <th></th>\n",
       "    </tr>\n",
       "  </thead>\n",
       "  <tbody>\n",
       "    <tr>\n",
       "      <th>August</th>\n",
       "      <td>87111.78</td>\n",
       "      <td>89486.43</td>\n",
       "      <td>382186.69</td>\n",
       "    </tr>\n",
       "    <tr>\n",
       "      <th>December</th>\n",
       "      <td>131634.49</td>\n",
       "      <td>121129.51</td>\n",
       "      <td>306957.22</td>\n",
       "    </tr>\n",
       "    <tr>\n",
       "      <th>July</th>\n",
       "      <td>92625.29</td>\n",
       "      <td>89083.25</td>\n",
       "      <td>316853.29</td>\n",
       "    </tr>\n",
       "    <tr>\n",
       "      <th>June</th>\n",
       "      <td>97357.26</td>\n",
       "      <td>94720.00</td>\n",
       "      <td>379390.83</td>\n",
       "    </tr>\n",
       "    <tr>\n",
       "      <th>November</th>\n",
       "      <td>98316.19</td>\n",
       "      <td>103230.96</td>\n",
       "      <td>339305.66</td>\n",
       "    </tr>\n",
       "    <tr>\n",
       "      <th>October</th>\n",
       "      <td>89236.96</td>\n",
       "      <td>93035.97</td>\n",
       "      <td>303714.91</td>\n",
       "    </tr>\n",
       "    <tr>\n",
       "      <th>September</th>\n",
       "      <td>90452.60</td>\n",
       "      <td>85934.38</td>\n",
       "      <td>305440.53</td>\n",
       "    </tr>\n",
       "  </tbody>\n",
       "</table>\n",
       "</div>"
      ],
      "text/plain": [
       "           RETAIL SALES  RETAIL TRANSFERS  WAREHOUSE SALES\n",
       "MONTH                                                     \n",
       "August         87111.78          89486.43        382186.69\n",
       "December      131634.49         121129.51        306957.22\n",
       "July           92625.29          89083.25        316853.29\n",
       "June           97357.26          94720.00        379390.83\n",
       "November       98316.19         103230.96        339305.66\n",
       "October        89236.96          93035.97        303714.91\n",
       "September      90452.60          85934.38        305440.53"
      ]
     },
     "execution_count": 38,
     "metadata": {},
     "output_type": "execute_result"
    }
   ],
   "source": [
    "# Calculate your the Monthly Total quantity sold in 2017\n",
    "\n",
    "year2017 = year2017.groupby('MONTH')[['RETAIL SALES','RETAIL TRANSFERS','WAREHOUSE SALES']].agg('sum')\n",
    "year2017"
   ]
  },
  {
   "cell_type": "code",
   "execution_count": 39,
   "id": "b4f1298c-2195-4930-bc12-f38d20b032b3",
   "metadata": {},
   "outputs": [
    {
     "data": {
      "text/plain": [
       "<Axes: title={'center': '2017 Monthly Total Quantity Sold for RETAIL, TRANSFERS, and WAREHOUSE'}, xlabel='MONTH'>"
      ]
     },
     "execution_count": 39,
     "metadata": {},
     "output_type": "execute_result"
    },
    {
     "data": {
      "image/png": "[encoded data removed]",
      "text/plain": [
       "<Figure size 900x600 with 1 Axes>"
      ]
     },
     "metadata": {},
     "output_type": "display_data"
    }
   ],
   "source": [
    "# visulize it\n",
    "\n",
    "year2017.plot.bar(figsize =(9,6),\n",
    "        title = ('2017 Monthly Total Quantity Sold for RETAIL, TRANSFERS, and WAREHOUSE'))"
   ]
  },
  {
   "cell_type": "markdown",
   "id": "4f2c106b-e0cf-4271-9737-06ce306474ea",
   "metadata": {},
   "source": [
    "* In 2017 Month Warehouse sales had the highest quantity sold\n",
    "* Retail sales and Retail Transfers have a moderate quantity sold"
   ]
  },
  {
   "cell_type": "code",
   "execution_count": 40,
   "id": "80dbc172-eb2a-4541-abda-cb0146cb9ef5",
   "metadata": {},
   "outputs": [
    {
     "data": {
      "text/html": [
       "<div>\n",
       "<style scoped>\n",
       "    .dataframe tbody tr th:only-of-type {\n",
       "        vertical-align: middle;\n",
       "    }\n",
       "\n",
       "    .dataframe tbody tr th {\n",
       "        vertical-align: top;\n",
       "    }\n",
       "\n",
       "    .dataframe thead th {\n",
       "        text-align: right;\n",
       "    }\n",
       "</style>\n",
       "<table border=\"1\" class=\"dataframe\">\n",
       "  <thead>\n",
       "    <tr style=\"text-align: right;\">\n",
       "      <th></th>\n",
       "      <th>YEAR</th>\n",
       "      <th>MONTH</th>\n",
       "      <th>SUPPLIER</th>\n",
       "      <th>ITEM CODE</th>\n",
       "      <th>ITEM DESCRIPTION</th>\n",
       "      <th>ITEM TYPE</th>\n",
       "      <th>RETAIL SALES</th>\n",
       "      <th>RETAIL TRANSFERS</th>\n",
       "      <th>WAREHOUSE SALES</th>\n",
       "    </tr>\n",
       "  </thead>\n",
       "  <tbody>\n",
       "    <tr>\n",
       "      <th>159360</th>\n",
       "      <td>2018</td>\n",
       "      <td>February</td>\n",
       "      <td>E &amp; J GALLO WINERY</td>\n",
       "      <td>311839</td>\n",
       "      <td>TALBOTT  SLEEPY HOLLOW P/NOIR - 750ML</td>\n",
       "      <td>WINE</td>\n",
       "      <td>0.91</td>\n",
       "      <td>0.0</td>\n",
       "      <td>0.00</td>\n",
       "    </tr>\n",
       "    <tr>\n",
       "      <th>152227</th>\n",
       "      <td>2018</td>\n",
       "      <td>January</td>\n",
       "      <td>PALM BAY IMPORTS</td>\n",
       "      <td>66125</td>\n",
       "      <td>CAVIT P/GRIG - 1.5L</td>\n",
       "      <td>WINE</td>\n",
       "      <td>99.75</td>\n",
       "      <td>64.0</td>\n",
       "      <td>122.83</td>\n",
       "    </tr>\n",
       "    <tr>\n",
       "      <th>156439</th>\n",
       "      <td>2018</td>\n",
       "      <td>February</td>\n",
       "      <td>MONSIEUR TOUTON SELECTION</td>\n",
       "      <td>155020</td>\n",
       "      <td>MAPRECO VINHO VERDE - 750ML</td>\n",
       "      <td>WINE</td>\n",
       "      <td>0.00</td>\n",
       "      <td>0.0</td>\n",
       "      <td>2.00</td>\n",
       "    </tr>\n",
       "    <tr>\n",
       "      <th>156088</th>\n",
       "      <td>2018</td>\n",
       "      <td>February</td>\n",
       "      <td>LEGENDS LTD</td>\n",
       "      <td>12236</td>\n",
       "      <td>LONG TRAIL BLAZE BOX - 12.OZ 2/12 NR</td>\n",
       "      <td>BEER</td>\n",
       "      <td>1.50</td>\n",
       "      <td>6.0</td>\n",
       "      <td>0.00</td>\n",
       "    </tr>\n",
       "  </tbody>\n",
       "</table>\n",
       "</div>"
      ],
      "text/plain": [
       "        YEAR     MONTH                   SUPPLIER ITEM CODE  \\\n",
       "159360  2018  February         E & J GALLO WINERY    311839   \n",
       "152227  2018   January           PALM BAY IMPORTS     66125   \n",
       "156439  2018  February  MONSIEUR TOUTON SELECTION    155020   \n",
       "156088  2018  February                LEGENDS LTD     12236   \n",
       "\n",
       "                             ITEM DESCRIPTION ITEM TYPE  RETAIL SALES  \\\n",
       "159360  TALBOTT  SLEEPY HOLLOW P/NOIR - 750ML      WINE          0.91   \n",
       "152227                    CAVIT P/GRIG - 1.5L      WINE         99.75   \n",
       "156439            MAPRECO VINHO VERDE - 750ML      WINE          0.00   \n",
       "156088   LONG TRAIL BLAZE BOX - 12.OZ 2/12 NR      BEER          1.50   \n",
       "\n",
       "        RETAIL TRANSFERS  WAREHOUSE SALES  \n",
       "159360               0.0             0.00  \n",
       "152227              64.0           122.83  \n",
       "156439               0.0             2.00  \n",
       "156088               6.0             0.00  "
      ]
     },
     "execution_count": 40,
     "metadata": {},
     "output_type": "execute_result"
    }
   ],
   "source": [
    "# use filter to query 2018 come out\n",
    "\n",
    "year2018 = df3[df['YEAR'] == 2018]\n",
    "year2018.sample(4)"
   ]
  },
  {
   "cell_type": "code",
   "execution_count": 41,
   "id": "a21be236-7dd6-4886-abd0-31f8c57823d2",
   "metadata": {},
   "outputs": [
    {
     "data": {
      "text/plain": [
       "array(['January', 'February'], dtype=object)"
      ]
     },
     "execution_count": 41,
     "metadata": {},
     "output_type": "execute_result"
    }
   ],
   "source": [
    "# check how many unique Month we have in 2018\n",
    "\n",
    "year2018['MONTH'].unique()"
   ]
  },
  {
   "cell_type": "code",
   "execution_count": 42,
   "id": "9f50ef17-e3f2-4555-b34c-0d2a073a026d",
   "metadata": {},
   "outputs": [
    {
     "data": {
      "text/html": [
       "<div>\n",
       "<style scoped>\n",
       "    .dataframe tbody tr th:only-of-type {\n",
       "        vertical-align: middle;\n",
       "    }\n",
       "\n",
       "    .dataframe tbody tr th {\n",
       "        vertical-align: top;\n",
       "    }\n",
       "\n",
       "    .dataframe thead th {\n",
       "        text-align: right;\n",
       "    }\n",
       "</style>\n",
       "<table border=\"1\" class=\"dataframe\">\n",
       "  <thead>\n",
       "    <tr style=\"text-align: right;\">\n",
       "      <th></th>\n",
       "      <th>RETAIL SALES</th>\n",
       "      <th>RETAIL TRANSFERS</th>\n",
       "      <th>WAREHOUSE SALES</th>\n",
       "    </tr>\n",
       "    <tr>\n",
       "      <th>MONTH</th>\n",
       "      <th></th>\n",
       "      <th></th>\n",
       "      <th></th>\n",
       "    </tr>\n",
       "  </thead>\n",
       "  <tbody>\n",
       "    <tr>\n",
       "      <th>February</th>\n",
       "      <td>77804.13</td>\n",
       "      <td>79256.78</td>\n",
       "      <td>265008.52</td>\n",
       "    </tr>\n",
       "    <tr>\n",
       "      <th>January</th>\n",
       "      <td>75791.77</td>\n",
       "      <td>74396.14</td>\n",
       "      <td>254517.67</td>\n",
       "    </tr>\n",
       "  </tbody>\n",
       "</table>\n",
       "</div>"
      ],
      "text/plain": [
       "          RETAIL SALES  RETAIL TRANSFERS  WAREHOUSE SALES\n",
       "MONTH                                                    \n",
       "February      77804.13          79256.78        265008.52\n",
       "January       75791.77          74396.14        254517.67"
      ]
     },
     "execution_count": 42,
     "metadata": {},
     "output_type": "execute_result"
    }
   ],
   "source": [
    "# Calculate your the Monthly Total quantity sold in 2018\n",
    "\n",
    "year2018 = year2018.groupby('MONTH')[['RETAIL SALES','RETAIL TRANSFERS','WAREHOUSE SALES']].agg('sum')\n",
    "year2018"
   ]
  },
  {
   "cell_type": "markdown",
   "id": "be06d43f-6a07-4a2c-9f60-5ed6f15ea620",
   "metadata": {},
   "source": [
    "* There is only 2 months in 2018 get supply"
   ]
  },
  {
   "cell_type": "code",
   "execution_count": 43,
   "id": "93e1b28b-cac4-480e-b6d9-5034d2d8d039",
   "metadata": {},
   "outputs": [
    {
     "data": {
      "text/plain": [
       "<Axes: title={'center': '2018 Monthly Total Quantity for RETAIL, TRANSFERS, and WAREHOUSE'}, xlabel='MONTH'>"
      ]
     },
     "execution_count": 43,
     "metadata": {},
     "output_type": "execute_result"
    },
    {
     "data": {
      "image/png": "[encoded data removed]",
      "text/plain": [
       "<Figure size 800x600 with 1 Axes>"
      ]
     },
     "metadata": {},
     "output_type": "display_data"
    }
   ],
   "source": [
    "# visulize it\n",
    "\n",
    "year2018.plot.bar(figsize =(8,6),\n",
    "        title = ('2018 Monthly Total Quantity for RETAIL, TRANSFERS, and WAREHOUSE'))"
   ]
  },
  {
   "cell_type": "markdown",
   "id": "121aaa99-2232-4573-b1be-197f25adad18",
   "metadata": {},
   "source": [
    "* In 2018 Month Warehouse sales had the highest quantity sold\n",
    "* Retail sales and Retail Transfers have a moderate quantity sold"
   ]
  },
  {
   "cell_type": "code",
   "execution_count": 44,
   "id": "bc1f082b-1504-4fbb-be0d-32615a0c279a",
   "metadata": {},
   "outputs": [
    {
     "data": {
      "text/html": [
       "<div>\n",
       "<style scoped>\n",
       "    .dataframe tbody tr th:only-of-type {\n",
       "        vertical-align: middle;\n",
       "    }\n",
       "\n",
       "    .dataframe tbody tr th {\n",
       "        vertical-align: top;\n",
       "    }\n",
       "\n",
       "    .dataframe thead th {\n",
       "        text-align: right;\n",
       "    }\n",
       "</style>\n",
       "<table border=\"1\" class=\"dataframe\">\n",
       "  <thead>\n",
       "    <tr style=\"text-align: right;\">\n",
       "      <th></th>\n",
       "      <th>YEAR</th>\n",
       "      <th>MONTH</th>\n",
       "      <th>SUPPLIER</th>\n",
       "      <th>ITEM CODE</th>\n",
       "      <th>ITEM DESCRIPTION</th>\n",
       "      <th>ITEM TYPE</th>\n",
       "      <th>RETAIL SALES</th>\n",
       "      <th>RETAIL TRANSFERS</th>\n",
       "      <th>WAREHOUSE SALES</th>\n",
       "    </tr>\n",
       "  </thead>\n",
       "  <tbody>\n",
       "    <tr>\n",
       "      <th>253179</th>\n",
       "      <td>2019</td>\n",
       "      <td>July</td>\n",
       "      <td>LEGENDS LTD</td>\n",
       "      <td>63115</td>\n",
       "      <td>ANCHOR FOG BREAKER 4/6 NR</td>\n",
       "      <td>BEER</td>\n",
       "      <td>0.00</td>\n",
       "      <td>0.0</td>\n",
       "      <td>6.0</td>\n",
       "    </tr>\n",
       "    <tr>\n",
       "      <th>258905</th>\n",
       "      <td>2019</td>\n",
       "      <td>August</td>\n",
       "      <td>DOPS INC</td>\n",
       "      <td>26447</td>\n",
       "      <td>UINTA HOP NOTCH IPA 4/6 CANS - 12OZ</td>\n",
       "      <td>BEER</td>\n",
       "      <td>0.75</td>\n",
       "      <td>1.0</td>\n",
       "      <td>3.0</td>\n",
       "    </tr>\n",
       "    <tr>\n",
       "      <th>245982</th>\n",
       "      <td>2019</td>\n",
       "      <td>July</td>\n",
       "      <td>SOUTHERN GLAZERS WINE AND SPIRITS</td>\n",
       "      <td>238076</td>\n",
       "      <td>OLE SMOKY MOONSHINE PICKLES - 750ML</td>\n",
       "      <td>LIQUOR</td>\n",
       "      <td>12.05</td>\n",
       "      <td>48.0</td>\n",
       "      <td>0.0</td>\n",
       "    </tr>\n",
       "    <tr>\n",
       "      <th>265032</th>\n",
       "      <td>2019</td>\n",
       "      <td>August</td>\n",
       "      <td>MILLER BREWING COMPANY</td>\n",
       "      <td>51051</td>\n",
       "      <td>CAPE LINE 2/12 PK 12OZ VARIETY PACK CAN</td>\n",
       "      <td>BEER</td>\n",
       "      <td>49.50</td>\n",
       "      <td>36.0</td>\n",
       "      <td>89.0</td>\n",
       "    </tr>\n",
       "  </tbody>\n",
       "</table>\n",
       "</div>"
      ],
      "text/plain": [
       "        YEAR   MONTH                           SUPPLIER ITEM CODE  \\\n",
       "253179  2019    July                        LEGENDS LTD     63115   \n",
       "258905  2019  August                           DOPS INC     26447   \n",
       "245982  2019    July  SOUTHERN GLAZERS WINE AND SPIRITS    238076   \n",
       "265032  2019  August             MILLER BREWING COMPANY     51051   \n",
       "\n",
       "                               ITEM DESCRIPTION ITEM TYPE  RETAIL SALES  \\\n",
       "253179                ANCHOR FOG BREAKER 4/6 NR      BEER          0.00   \n",
       "258905      UINTA HOP NOTCH IPA 4/6 CANS - 12OZ      BEER          0.75   \n",
       "245982      OLE SMOKY MOONSHINE PICKLES - 750ML    LIQUOR         12.05   \n",
       "265032  CAPE LINE 2/12 PK 12OZ VARIETY PACK CAN      BEER         49.50   \n",
       "\n",
       "        RETAIL TRANSFERS  WAREHOUSE SALES  \n",
       "253179               0.0              6.0  \n",
       "258905               1.0              3.0  \n",
       "245982              48.0              0.0  \n",
       "265032              36.0             89.0  "
      ]
     },
     "execution_count": 44,
     "metadata": {},
     "output_type": "execute_result"
    }
   ],
   "source": [
    "# use filter to query 2019 come out\n",
    "\n",
    "year2019 = df3[df['YEAR'] == 2019]\n",
    "year2019.sample(4)"
   ]
  },
  {
   "cell_type": "code",
   "execution_count": 45,
   "id": "5907ed74-ea30-492f-8e58-652a5d87851e",
   "metadata": {},
   "outputs": [
    {
     "data": {
      "text/plain": [
       "array(['January', 'November', 'February', 'March', 'April', 'May', 'June',\n",
       "       'July', 'August', 'September', 'October'], dtype=object)"
      ]
     },
     "execution_count": 45,
     "metadata": {},
     "output_type": "execute_result"
    }
   ],
   "source": [
    "# check how many unique Months we have in 2019\n",
    "\n",
    "year2019['MONTH'].unique()"
   ]
  },
  {
   "cell_type": "markdown",
   "id": "e7e35983-0a9a-403c-99a3-423d9f49abca",
   "metadata": {},
   "source": [
    "* In 2019 There are 11 Months get supply"
   ]
  },
  {
   "cell_type": "code",
   "execution_count": 46,
   "id": "89398899-be4d-40d6-9bc9-982ce97373cc",
   "metadata": {},
   "outputs": [
    {
     "data": {
      "text/html": [
       "<div>\n",
       "<style scoped>\n",
       "    .dataframe tbody tr th:only-of-type {\n",
       "        vertical-align: middle;\n",
       "    }\n",
       "\n",
       "    .dataframe tbody tr th {\n",
       "        vertical-align: top;\n",
       "    }\n",
       "\n",
       "    .dataframe thead th {\n",
       "        text-align: right;\n",
       "    }\n",
       "</style>\n",
       "<table border=\"1\" class=\"dataframe\">\n",
       "  <thead>\n",
       "    <tr style=\"text-align: right;\">\n",
       "      <th></th>\n",
       "      <th>RETAIL SALES</th>\n",
       "      <th>RETAIL TRANSFERS</th>\n",
       "      <th>WAREHOUSE SALES</th>\n",
       "    </tr>\n",
       "    <tr>\n",
       "      <th>MONTH</th>\n",
       "      <th></th>\n",
       "      <th></th>\n",
       "      <th></th>\n",
       "    </tr>\n",
       "  </thead>\n",
       "  <tbody>\n",
       "    <tr>\n",
       "      <th>April</th>\n",
       "      <td>80342.58</td>\n",
       "      <td>83633.90</td>\n",
       "      <td>298840.87</td>\n",
       "    </tr>\n",
       "    <tr>\n",
       "      <th>August</th>\n",
       "      <td>90628.61</td>\n",
       "      <td>88873.70</td>\n",
       "      <td>349603.09</td>\n",
       "    </tr>\n",
       "    <tr>\n",
       "      <th>February</th>\n",
       "      <td>80113.54</td>\n",
       "      <td>72415.98</td>\n",
       "      <td>248587.68</td>\n",
       "    </tr>\n",
       "    <tr>\n",
       "      <th>January</th>\n",
       "      <td>76100.53</td>\n",
       "      <td>76295.63</td>\n",
       "      <td>280381.24</td>\n",
       "    </tr>\n",
       "    <tr>\n",
       "      <th>July</th>\n",
       "      <td>90763.48</td>\n",
       "      <td>101509.34</td>\n",
       "      <td>374971.48</td>\n",
       "    </tr>\n",
       "    <tr>\n",
       "      <th>June</th>\n",
       "      <td>90860.39</td>\n",
       "      <td>85743.73</td>\n",
       "      <td>346587.08</td>\n",
       "    </tr>\n",
       "    <tr>\n",
       "      <th>March</th>\n",
       "      <td>84441.04</td>\n",
       "      <td>91321.61</td>\n",
       "      <td>293260.72</td>\n",
       "    </tr>\n",
       "    <tr>\n",
       "      <th>May</th>\n",
       "      <td>94953.10</td>\n",
       "      <td>88056.80</td>\n",
       "      <td>383791.58</td>\n",
       "    </tr>\n",
       "    <tr>\n",
       "      <th>November</th>\n",
       "      <td>101631.31</td>\n",
       "      <td>97169.75</td>\n",
       "      <td>299098.44</td>\n",
       "    </tr>\n",
       "    <tr>\n",
       "      <th>October</th>\n",
       "      <td>88230.41</td>\n",
       "      <td>88425.59</td>\n",
       "      <td>350203.03</td>\n",
       "    </tr>\n",
       "    <tr>\n",
       "      <th>September</th>\n",
       "      <td>82126.21</td>\n",
       "      <td>84116.37</td>\n",
       "      <td>318046.02</td>\n",
       "    </tr>\n",
       "  </tbody>\n",
       "</table>\n",
       "</div>"
      ],
      "text/plain": [
       "           RETAIL SALES  RETAIL TRANSFERS  WAREHOUSE SALES\n",
       "MONTH                                                     \n",
       "April          80342.58          83633.90        298840.87\n",
       "August         90628.61          88873.70        349603.09\n",
       "February       80113.54          72415.98        248587.68\n",
       "January        76100.53          76295.63        280381.24\n",
       "July           90763.48         101509.34        374971.48\n",
       "June           90860.39          85743.73        346587.08\n",
       "March          84441.04          91321.61        293260.72\n",
       "May            94953.10          88056.80        383791.58\n",
       "November      101631.31          97169.75        299098.44\n",
       "October        88230.41          88425.59        350203.03\n",
       "September      82126.21          84116.37        318046.02"
      ]
     },
     "execution_count": 46,
     "metadata": {},
     "output_type": "execute_result"
    }
   ],
   "source": [
    "# Calculate your the Monthly Total quantity sold in 2019\n",
    "\n",
    "year2019 = year2019.groupby('MONTH')[['RETAIL SALES','RETAIL TRANSFERS','WAREHOUSE SALES']].agg('sum')\n",
    "year2019"
   ]
  },
  {
   "cell_type": "code",
   "execution_count": 47,
   "id": "8c2cba6d-83f8-47c4-9108-3dc3c005fbba",
   "metadata": {},
   "outputs": [
    {
     "data": {
      "text/plain": [
       "<Axes: title={'center': '2019 Monthly Total Quantity for RETAIL, TRANSFERS, and WAREHOUSE'}, xlabel='MONTH'>"
      ]
     },
     "execution_count": 47,
     "metadata": {},
     "output_type": "execute_result"
    },
    {
     "data": {
      "image/png": "[encoded data removed]",
      "text/plain": [
       "<Figure size 900x600 with 1 Axes>"
      ]
     },
     "metadata": {},
     "output_type": "display_data"
    }
   ],
   "source": [
    "# visulize it\n",
    "\n",
    "year2019.plot.bar(figsize =(9,6),\n",
    "        title = ('2019 Monthly Total Quantity for RETAIL, TRANSFERS, and WAREHOUSE'))"
   ]
  },
  {
   "cell_type": "markdown",
   "id": "d14f5d3d-d088-4f27-9980-d344f89300ec",
   "metadata": {},
   "source": [
    "* In 2019 Month Warehouse sales had the highest quantity sold\n",
    "* Retail sales and Retail Transfers have a moderate quantity sold"
   ]
  },
  {
   "cell_type": "code",
   "execution_count": 48,
   "id": "28bf6f97-83aa-4141-971a-53c068ceb144",
   "metadata": {},
   "outputs": [
    {
     "data": {
      "text/html": [
       "<div>\n",
       "<style scoped>\n",
       "    .dataframe tbody tr th:only-of-type {\n",
       "        vertical-align: middle;\n",
       "    }\n",
       "\n",
       "    .dataframe tbody tr th {\n",
       "        vertical-align: top;\n",
       "    }\n",
       "\n",
       "    .dataframe thead th {\n",
       "        text-align: right;\n",
       "    }\n",
       "</style>\n",
       "<table border=\"1\" class=\"dataframe\">\n",
       "  <thead>\n",
       "    <tr style=\"text-align: right;\">\n",
       "      <th></th>\n",
       "      <th>YEAR</th>\n",
       "      <th>MONTH</th>\n",
       "      <th>SUPPLIER</th>\n",
       "      <th>ITEM CODE</th>\n",
       "      <th>ITEM DESCRIPTION</th>\n",
       "      <th>ITEM TYPE</th>\n",
       "      <th>RETAIL SALES</th>\n",
       "      <th>RETAIL TRANSFERS</th>\n",
       "      <th>WAREHOUSE SALES</th>\n",
       "    </tr>\n",
       "  </thead>\n",
       "  <tbody>\n",
       "    <tr>\n",
       "      <th>22620</th>\n",
       "      <td>2020</td>\n",
       "      <td>July</td>\n",
       "      <td>E &amp; J GALLO WINERY</td>\n",
       "      <td>85697</td>\n",
       "      <td>DARK HORSE S/BLC - CAN - 375ML</td>\n",
       "      <td>WINE</td>\n",
       "      <td>8.09</td>\n",
       "      <td>7.0</td>\n",
       "      <td>9.0</td>\n",
       "    </tr>\n",
       "    <tr>\n",
       "      <th>18960</th>\n",
       "      <td>2020</td>\n",
       "      <td>July</td>\n",
       "      <td>DELICATO FAMILY VINEYARDS</td>\n",
       "      <td>432245</td>\n",
       "      <td>NOBLE VINES 181 MERLOT - 750ML</td>\n",
       "      <td>WINE</td>\n",
       "      <td>15.42</td>\n",
       "      <td>7.0</td>\n",
       "      <td>4.0</td>\n",
       "    </tr>\n",
       "    <tr>\n",
       "      <th>18135</th>\n",
       "      <td>2020</td>\n",
       "      <td>July</td>\n",
       "      <td>REPUBLIC NATIONAL DISTRIBUTING CO</td>\n",
       "      <td>370152</td>\n",
       "      <td>CALINA RES CHARD - 750ML</td>\n",
       "      <td>WINE</td>\n",
       "      <td>0.00</td>\n",
       "      <td>0.0</td>\n",
       "      <td>2.0</td>\n",
       "    </tr>\n",
       "    <tr>\n",
       "      <th>2734</th>\n",
       "      <td>2020</td>\n",
       "      <td>January</td>\n",
       "      <td>YOUNG WON TRADING INC</td>\n",
       "      <td>301119</td>\n",
       "      <td>HAKUSHIKA SNOW BEAUTY - 720ML</td>\n",
       "      <td>WINE</td>\n",
       "      <td>0.00</td>\n",
       "      <td>0.0</td>\n",
       "      <td>2.0</td>\n",
       "    </tr>\n",
       "  </tbody>\n",
       "</table>\n",
       "</div>"
      ],
      "text/plain": [
       "       YEAR    MONTH                           SUPPLIER ITEM CODE  \\\n",
       "22620  2020     July                 E & J GALLO WINERY     85697   \n",
       "18960  2020     July          DELICATO FAMILY VINEYARDS    432245   \n",
       "18135  2020     July  REPUBLIC NATIONAL DISTRIBUTING CO    370152   \n",
       "2734   2020  January              YOUNG WON TRADING INC    301119   \n",
       "\n",
       "                     ITEM DESCRIPTION ITEM TYPE  RETAIL SALES  \\\n",
       "22620  DARK HORSE S/BLC - CAN - 375ML      WINE          8.09   \n",
       "18960  NOBLE VINES 181 MERLOT - 750ML      WINE         15.42   \n",
       "18135        CALINA RES CHARD - 750ML      WINE          0.00   \n",
       "2734    HAKUSHIKA SNOW BEAUTY - 720ML      WINE          0.00   \n",
       "\n",
       "       RETAIL TRANSFERS  WAREHOUSE SALES  \n",
       "22620               7.0              9.0  \n",
       "18960               7.0              4.0  \n",
       "18135               0.0              2.0  \n",
       "2734                0.0              2.0  "
      ]
     },
     "execution_count": 48,
     "metadata": {},
     "output_type": "execute_result"
    }
   ],
   "source": [
    "# use filter to query 2020 come out\n",
    "\n",
    "year2020 = df3[df['YEAR'] == 2020]\n",
    "year2020.sample(4)"
   ]
  },
  {
   "cell_type": "code",
   "execution_count": 49,
   "id": "bec52446-9212-4319-be05-fea2711dbbe3",
   "metadata": {},
   "outputs": [
    {
     "data": {
      "text/plain": [
       "array(['January', 'July', 'March', 'September'], dtype=object)"
      ]
     },
     "execution_count": 49,
     "metadata": {},
     "output_type": "execute_result"
    }
   ],
   "source": [
    "# check how many unique Month we have in 2020\n",
    "\n",
    "year2020['MONTH'].unique()"
   ]
  },
  {
   "cell_type": "markdown",
   "id": "ab627d5d-53e3-4ac1-9acf-750667b757e9",
   "metadata": {},
   "source": [
    "* In 2020 There only 4 Months get supply"
   ]
  },
  {
   "cell_type": "code",
   "execution_count": 50,
   "id": "8f3e7d25-b124-4f6a-9fa7-9fb1f5234626",
   "metadata": {},
   "outputs": [
    {
     "data": {
      "text/html": [
       "<div>\n",
       "<style scoped>\n",
       "    .dataframe tbody tr th:only-of-type {\n",
       "        vertical-align: middle;\n",
       "    }\n",
       "\n",
       "    .dataframe tbody tr th {\n",
       "        vertical-align: top;\n",
       "    }\n",
       "\n",
       "    .dataframe thead th {\n",
       "        text-align: right;\n",
       "    }\n",
       "</style>\n",
       "<table border=\"1\" class=\"dataframe\">\n",
       "  <thead>\n",
       "    <tr style=\"text-align: right;\">\n",
       "      <th></th>\n",
       "      <th>RETAIL SALES</th>\n",
       "      <th>RETAIL TRANSFERS</th>\n",
       "      <th>WAREHOUSE SALES</th>\n",
       "    </tr>\n",
       "    <tr>\n",
       "      <th>MONTH</th>\n",
       "      <th></th>\n",
       "      <th></th>\n",
       "      <th></th>\n",
       "    </tr>\n",
       "  </thead>\n",
       "  <tbody>\n",
       "    <tr>\n",
       "      <th>January</th>\n",
       "      <td>74318.77</td>\n",
       "      <td>75997.35</td>\n",
       "      <td>284114.72</td>\n",
       "    </tr>\n",
       "    <tr>\n",
       "      <th>July</th>\n",
       "      <td>94538.96</td>\n",
       "      <td>82706.57</td>\n",
       "      <td>418094.42</td>\n",
       "    </tr>\n",
       "    <tr>\n",
       "      <th>March</th>\n",
       "      <td>109411.29</td>\n",
       "      <td>110598.89</td>\n",
       "      <td>317452.98</td>\n",
       "    </tr>\n",
       "    <tr>\n",
       "      <th>September</th>\n",
       "      <td>82108.68</td>\n",
       "      <td>76830.00</td>\n",
       "      <td>365347.61</td>\n",
       "    </tr>\n",
       "  </tbody>\n",
       "</table>\n",
       "</div>"
      ],
      "text/plain": [
       "           RETAIL SALES  RETAIL TRANSFERS  WAREHOUSE SALES\n",
       "MONTH                                                     \n",
       "January        74318.77          75997.35        284114.72\n",
       "July           94538.96          82706.57        418094.42\n",
       "March         109411.29         110598.89        317452.98\n",
       "September      82108.68          76830.00        365347.61"
      ]
     },
     "execution_count": 50,
     "metadata": {},
     "output_type": "execute_result"
    }
   ],
   "source": [
    "# Calculate your the Monthly Total quantity sold in 2020\n",
    "\n",
    "year2020 = year2020.groupby('MONTH')[['RETAIL SALES','RETAIL TRANSFERS','WAREHOUSE SALES']].agg('sum')\n",
    "year2020"
   ]
  },
  {
   "cell_type": "code",
   "execution_count": 51,
   "id": "a05ff367-ba35-4e17-b223-5d0dbb33f6bb",
   "metadata": {},
   "outputs": [
    {
     "data": {
      "text/plain": [
       "<Axes: title={'center': '2020 Monthly Total Quantity for RETAIL, TRANSFERS, and WAREHOUSE'}, xlabel='MONTH'>"
      ]
     },
     "execution_count": 51,
     "metadata": {},
     "output_type": "execute_result"
    },
    {
     "data": {
      "image/png": "[encoded data removed]",
      "text/plain": [
       "<Figure size 900x600 with 1 Axes>"
      ]
     },
     "metadata": {},
     "output_type": "display_data"
    }
   ],
   "source": [
    "# visulize it\n",
    "\n",
    "year2020.plot.bar(figsize =(9,6),\n",
    "        title = ('2020 Monthly Total Quantity for RETAIL, TRANSFERS, and WAREHOUSE'))"
   ]
  },
  {
   "cell_type": "markdown",
   "id": "09289810-c6f4-4ee0-b917-c5c9e7a620f8",
   "metadata": {},
   "source": [
    "* In 2020 Month Warehouse sales had the highest quantity sold\n",
    "* Retail sales and Retail Transfers have a moderate quantity sold"
   ]
  },
  {
   "cell_type": "markdown",
   "id": "fd0bf501-e1f9-49d6-be49-861ddccd0b23",
   "metadata": {},
   "source": [
    "## General Insight\n",
    "\n",
    "### What is the total quantity sold in Retail Sales and Warehouse Sales\n",
    "* The told Quantity sold in Retail Sales for four years is: 2160899.37\n",
    "* The told Quantity sold in Warehouse Sales for four years is: 7781756.280000001\n",
    "\n",
    "### What is the average, maximum, and total Quantity sold in Retails Sales\n",
    "* DUNNAGE and Kegs Items don't have any quantity sold in retail Sales\n",
    "* Non-alcohol has the highest maximum, Average, and lowest total quantity sold in the retail sale\n",
    "* Liquor has the highest total and a moderate maximum, average quantity sold in retail sale\n",
    "* Wine has a higher total quantity and a low maximum quantity with the lowest average sold in the retail sale\n",
    "* Beer has a moderate average, maximum, and total quantity sold in retail sale\n",
    "* str_supplies has a lower average,  maximum, and total quantity sold in the retail sale\n",
    "* Ref has the lowest average, maximum, and total quantity sold in retail sale\n",
    "\n",
    "### What is the average, maximum, and total Quantity sold in warehouse Sales\n",
    "* Str_supplies Items don't have any quantity sold in Warehouse Sales\n",
    "* DUNNAGE and Kegs items sold their quantity in Debit at warehouse sales\n",
    "* Bear as the highest Average, maximum, and total quantity sold at Warehouse\n",
    "* The Other item Types contribute low to the Average, maximum, and total quantity sold at the Warehouse\n",
    "\n",
    "### Yearly Analysis\n",
    "* 2019 and 2017 had the most hike quantity sold, especially in Warehouse sale\n",
    "* Retail sales and Retail Transfers have a moderate quantity sold\n",
    "* 2018 has the lowest quantity sold\n",
    "\n",
    "### Monthly Analysis\n",
    "* 2017 has 7 months of supply\n",
    "* 2018 has only 2 months of supply\n",
    "* 2019 has 11 months of supply\n",
    "* 2020 has 4 months of supply\n",
    "* Trought out the Month and the Year Warehouse as the most quantity sold  \n"
   ]
  },
  {
   "cell_type": "markdown",
   "id": "cbf43849-7102-4634-a056-fc7322238c45",
   "metadata": {},
   "source": [
    "### Recommendations for Improving Inventory Sale Management\n",
    "* Investigate and reassess the stock levels of products like DUNNAGE, Str_supplies, and KEGS that have negative warehouse sales but no retail sales and warehouse sales and Implement regular reviews of stock turnover for both retail and warehouse channels to ensure better balance in inventory allocation and reduce overstocking.\n",
    "* Increase the stock supply for Beer, which has consistently high average, maximum, and total sales in the warehouse, and implement advanced analysis techniques such as machine learning algorithm used to forecasting model to anticipate demand surge for hike performing products to adjust warehouse stock accordingly.\n",
    "* For Item Types like STR_SUPPLIES and REF that have low sales in both retail and warehouse, re-evaluate the stock levels, and pricing strategies, reallocate marketing efforts, and introduce discounts to stimulate sales of underperforming products.\n",
    "* Products Item Types like Liquor and Wine that have high sales potential in retail should be given a quicker replacement in retail stores to meet demand and avoid stockouts and set up an automated stock replacement to ensure popular products are always available for customers, both in retail and the warehouse.\n",
    "\n",
    "### Recommendations for Improving Sales Performance Optimization\n",
    "* Focus efforts on Retail sale item types like Liquor and Non-Alcoholic products that have strong retail performance, and optimize warehouse strategies for products like Beer, which perform better in warehouse sales. Tailor a marketing promotional to channel For instance, increase retail promotions for Liquor and Wine while driving warehouse promotions and bulk offers for Beer.\n",
    "* Capitalize on high-selling months by running targeted campaigns and stock promotions and offer bulk purchase discounts to drive more sales.\n",
    "* For Item Types like Liquor that show high total sales but moderate maximum sales, focus on boost promotions to drive further engagement and Introduce seasonal offers, bundle deals, or loyalty rewards to drive higher sales for popular products.\n",
    "* Implement dynamic pricing for top-performing products based on demand forecasts, and consider discounting or offering incentives on low-demand products like STR_SUPPLIES.\n",
    "* Look at the factors that contributed to 2018 lowest overall sales drop, and develop a strategy to prevent similar trends in future years.\n"
   ]
  },
  {
   "cell_type": "code",
   "execution_count": null,
   "id": "dfc8adf3-4c9a-4a11-96c8-314c14afaa3f",
   "metadata": {},
   "outputs": [],
   "source": []
  },
  {
   "cell_type": "code",
   "execution_count": null,
   "id": "7d81eaf5-4b22-4190-96f3-54f069481b58",
   "metadata": {},
   "outputs": [],
   "source": []
  }
 ],
 "metadata": {
  "kernelspec": {
   "display_name": "Python 3 (ipykernel)",
   "language": "python",
   "name": "python3"
  },
  "language_info": {
   "codemirror_mode": {
    "name": "ipython",
    "version": 3
   },
   "file_extension": ".py",
   "mimetype": "text/x-python",
   "name": "python",
   "nbconvert_exporter": "python",
   "pygments_lexer": "ipython3",
   "version": "3.11.7"
  }
 },
 "nbformat": 4,
 "nbformat_minor": 5
}
